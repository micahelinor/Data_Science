{
 "cells": [
  {
   "cell_type": "markdown",
   "metadata": {},
   "source": [
    "# Lab 2: Data Preparation"
   ]
  },
  {
   "cell_type": "markdown",
   "metadata": {
    "hideCode": false,
    "hidePrompt": false
   },
   "source": [
    "### Data Selection & Amalgamation"
   ]
  },
  {
   "cell_type": "code",
   "execution_count": 17,
   "metadata": {
    "vscode": {
     "languageId": "r"
    }
   },
   "outputs": [],
   "source": [
    "f = \"setup.R\"; for (i in 1:10) { if (file.exists(f)) break else f = paste0(\"../\", f) }; source(f)"
   ]
  },
  {
   "cell_type": "markdown",
   "metadata": {},
   "source": [
    "## Problem 1\n",
    "\n",
    "Construct a dataset (i.e., dataframe) with 6 observations and 4 variables, as follows:\n",
    "* The first variable is named `name` and comprises these values: A, B, C, D, E, F\n",
    "* The second variable is named `x1` and comprises these values: 2.5, 2, 9, 6.5, 8, 4\n",
    "* The third variabe is named `x2` and comprises these values: 7, 3.5, 1, 7, 2.5, 8.5\n",
    "* The fourth variable is named `x3` and comrpises these values: 9, 10, 1, 2, 1.5, 9\n",
    "\n",
    "You may want to use these function(s):\n",
    "* data.frame()"
   ]
  },
  {
   "cell_type": "code",
   "execution_count": 18,
   "metadata": {
    "hideCode": false,
    "hidePrompt": false,
    "run_control": {
     "marked": false
    },
    "vscode": {
     "languageId": "r"
    }
   },
   "outputs": [
    {
     "data": {
      "text/html": [
       "<table class=\"dataframe\">\n",
       "<caption>A data.frame: 6 × 4</caption>\n",
       "<thead>\n",
       "\t<tr><th scope=col>name</th><th scope=col>x1</th><th scope=col>x2</th><th scope=col>x3</th></tr>\n",
       "\t<tr><th scope=col>&lt;chr&gt;</th><th scope=col>&lt;dbl&gt;</th><th scope=col>&lt;dbl&gt;</th><th scope=col>&lt;dbl&gt;</th></tr>\n",
       "</thead>\n",
       "<tbody>\n",
       "\t<tr><td>A</td><td>2.5</td><td>7.0</td><td> 9.0</td></tr>\n",
       "\t<tr><td>B</td><td>2.0</td><td>3.5</td><td>10.0</td></tr>\n",
       "\t<tr><td>C</td><td>9.0</td><td>1.0</td><td> 1.0</td></tr>\n",
       "\t<tr><td>D</td><td>6.5</td><td>7.0</td><td> 2.0</td></tr>\n",
       "\t<tr><td>E</td><td>8.0</td><td>2.5</td><td> 1.5</td></tr>\n",
       "\t<tr><td>F</td><td>4.0</td><td>8.5</td><td> 9.0</td></tr>\n",
       "</tbody>\n",
       "</table>\n"
      ],
      "text/latex": [
       "A data.frame: 6 × 4\n",
       "\\begin{tabular}{llll}\n",
       " name & x1 & x2 & x3\\\\\n",
       " <chr> & <dbl> & <dbl> & <dbl>\\\\\n",
       "\\hline\n",
       "\t A & 2.5 & 7.0 &  9.0\\\\\n",
       "\t B & 2.0 & 3.5 & 10.0\\\\\n",
       "\t C & 9.0 & 1.0 &  1.0\\\\\n",
       "\t D & 6.5 & 7.0 &  2.0\\\\\n",
       "\t E & 8.0 & 2.5 &  1.5\\\\\n",
       "\t F & 4.0 & 8.5 &  9.0\\\\\n",
       "\\end{tabular}\n"
      ],
      "text/markdown": [
       "\n",
       "A data.frame: 6 × 4\n",
       "\n",
       "| name &lt;chr&gt; | x1 &lt;dbl&gt; | x2 &lt;dbl&gt; | x3 &lt;dbl&gt; |\n",
       "|---|---|---|---|\n",
       "| A | 2.5 | 7.0 |  9.0 |\n",
       "| B | 2.0 | 3.5 | 10.0 |\n",
       "| C | 9.0 | 1.0 |  1.0 |\n",
       "| D | 6.5 | 7.0 |  2.0 |\n",
       "| E | 8.0 | 2.5 |  1.5 |\n",
       "| F | 4.0 | 8.5 |  9.0 |\n",
       "\n"
      ],
      "text/plain": [
       "  name x1  x2  x3  \n",
       "1 A    2.5 7.0  9.0\n",
       "2 B    2.0 3.5 10.0\n",
       "3 C    9.0 1.0  1.0\n",
       "4 D    6.5 7.0  2.0\n",
       "5 E    8.0 2.5  1.5\n",
       "6 F    4.0 8.5  9.0"
      ]
     },
     "metadata": {},
     "output_type": "display_data"
    }
   ],
   "source": [
    "data = data.frame(name=c(\"A\", \"B\", \"C\", \"D\", \"E\", \"F\"),\n",
    "                  x1=c(2.5, 2.0, 9.0, 6.5, 8.0, 4.0),\n",
    "                  x2=c(7.0, 3.5, 1.0, 7.0, 2.5, 8.5),\n",
    "                  x3=c(9.0, 10.0, 1.0, 2.0, 1.5, 9.0))\n",
    "data"
   ]
  },
  {
   "cell_type": "markdown",
   "metadata": {},
   "source": [
    "## Problem 2\n",
    "\n",
    "Summarize the dataset as a table of variable types.\n",
    "\n",
    "You may want to use these function(s):\n",
    "* data.frame()\n",
    "* class()"
   ]
  },
  {
   "cell_type": "code",
   "execution_count": 19,
   "metadata": {
    "vscode": {
     "languageId": "r"
    }
   },
   "outputs": [
    {
     "data": {
      "text/html": [
       "<table class=\"dataframe\">\n",
       "<caption>A data.frame: 1 × 4</caption>\n",
       "<thead>\n",
       "\t<tr><th scope=col>name</th><th scope=col>x1</th><th scope=col>x2</th><th scope=col>x3</th></tr>\n",
       "\t<tr><th scope=col>&lt;chr&gt;</th><th scope=col>&lt;chr&gt;</th><th scope=col>&lt;chr&gt;</th><th scope=col>&lt;chr&gt;</th></tr>\n",
       "</thead>\n",
       "<tbody>\n",
       "\t<tr><td>character</td><td>numeric</td><td>numeric</td><td>numeric</td></tr>\n",
       "</tbody>\n",
       "</table>\n"
      ],
      "text/latex": [
       "A data.frame: 1 × 4\n",
       "\\begin{tabular}{llll}\n",
       " name & x1 & x2 & x3\\\\\n",
       " <chr> & <chr> & <chr> & <chr>\\\\\n",
       "\\hline\n",
       "\t character & numeric & numeric & numeric\\\\\n",
       "\\end{tabular}\n"
      ],
      "text/markdown": [
       "\n",
       "A data.frame: 1 × 4\n",
       "\n",
       "| name &lt;chr&gt; | x1 &lt;chr&gt; | x2 &lt;chr&gt; | x3 &lt;chr&gt; |\n",
       "|---|---|---|---|\n",
       "| character | numeric | numeric | numeric |\n",
       "\n"
      ],
      "text/plain": [
       "  name      x1      x2      x3     \n",
       "1 character numeric numeric numeric"
      ]
     },
     "metadata": {},
     "output_type": "display_data"
    }
   ],
   "source": [
    "data_class = data.frame(name=class(data$name), x1=class(data$x1), x2=class(data$x1), x3=class(data$x1))\n",
    "data_class"
   ]
  },
  {
   "cell_type": "markdown",
   "metadata": {},
   "source": [
    "## Problem 3\n",
    "\n",
    "Select variables `x1` and `x2` of the dataset."
   ]
  },
  {
   "cell_type": "code",
   "execution_count": 20,
   "metadata": {
    "vscode": {
     "languageId": "r"
    }
   },
   "outputs": [
    {
     "data": {
      "text/html": [
       "<table class=\"dataframe\">\n",
       "<caption>A data.frame: 6 × 2</caption>\n",
       "<thead>\n",
       "\t<tr><th scope=col>x1</th><th scope=col>x2</th></tr>\n",
       "\t<tr><th scope=col>&lt;dbl&gt;</th><th scope=col>&lt;dbl&gt;</th></tr>\n",
       "</thead>\n",
       "<tbody>\n",
       "\t<tr><td>2.5</td><td>7.0</td></tr>\n",
       "\t<tr><td>2.0</td><td>3.5</td></tr>\n",
       "\t<tr><td>9.0</td><td>1.0</td></tr>\n",
       "\t<tr><td>6.5</td><td>7.0</td></tr>\n",
       "\t<tr><td>8.0</td><td>2.5</td></tr>\n",
       "\t<tr><td>4.0</td><td>8.5</td></tr>\n",
       "</tbody>\n",
       "</table>\n"
      ],
      "text/latex": [
       "A data.frame: 6 × 2\n",
       "\\begin{tabular}{ll}\n",
       " x1 & x2\\\\\n",
       " <dbl> & <dbl>\\\\\n",
       "\\hline\n",
       "\t 2.5 & 7.0\\\\\n",
       "\t 2.0 & 3.5\\\\\n",
       "\t 9.0 & 1.0\\\\\n",
       "\t 6.5 & 7.0\\\\\n",
       "\t 8.0 & 2.5\\\\\n",
       "\t 4.0 & 8.5\\\\\n",
       "\\end{tabular}\n"
      ],
      "text/markdown": [
       "\n",
       "A data.frame: 6 × 2\n",
       "\n",
       "| x1 &lt;dbl&gt; | x2 &lt;dbl&gt; |\n",
       "|---|---|\n",
       "| 2.5 | 7.0 |\n",
       "| 2.0 | 3.5 |\n",
       "| 9.0 | 1.0 |\n",
       "| 6.5 | 7.0 |\n",
       "| 8.0 | 2.5 |\n",
       "| 4.0 | 8.5 |\n",
       "\n"
      ],
      "text/plain": [
       "  x1  x2 \n",
       "1 2.5 7.0\n",
       "2 2.0 3.5\n",
       "3 9.0 1.0\n",
       "4 6.5 7.0\n",
       "5 8.0 2.5\n",
       "6 4.0 8.5"
      ]
     },
     "metadata": {},
     "output_type": "display_data"
    }
   ],
   "source": [
    "data[c(2,3)]"
   ]
  },
  {
   "cell_type": "markdown",
   "metadata": {},
   "source": [
    "## Problem 4\n",
    "\n",
    "Select observations 1 and 2 of the dataset."
   ]
  },
  {
   "cell_type": "code",
   "execution_count": 21,
   "metadata": {
    "scrolled": true,
    "vscode": {
     "languageId": "r"
    }
   },
   "outputs": [
    {
     "data": {
      "text/html": [
       "<table class=\"dataframe\">\n",
       "<caption>A data.frame: 2 × 4</caption>\n",
       "<thead>\n",
       "\t<tr><th></th><th scope=col>name</th><th scope=col>x1</th><th scope=col>x2</th><th scope=col>x3</th></tr>\n",
       "\t<tr><th></th><th scope=col>&lt;chr&gt;</th><th scope=col>&lt;dbl&gt;</th><th scope=col>&lt;dbl&gt;</th><th scope=col>&lt;dbl&gt;</th></tr>\n",
       "</thead>\n",
       "<tbody>\n",
       "\t<tr><th scope=row>1</th><td>A</td><td>2.5</td><td>7.0</td><td> 9</td></tr>\n",
       "\t<tr><th scope=row>2</th><td>B</td><td>2.0</td><td>3.5</td><td>10</td></tr>\n",
       "</tbody>\n",
       "</table>\n"
      ],
      "text/latex": [
       "A data.frame: 2 × 4\n",
       "\\begin{tabular}{r|llll}\n",
       "  & name & x1 & x2 & x3\\\\\n",
       "  & <chr> & <dbl> & <dbl> & <dbl>\\\\\n",
       "\\hline\n",
       "\t1 & A & 2.5 & 7.0 &  9\\\\\n",
       "\t2 & B & 2.0 & 3.5 & 10\\\\\n",
       "\\end{tabular}\n"
      ],
      "text/markdown": [
       "\n",
       "A data.frame: 2 × 4\n",
       "\n",
       "| <!--/--> | name &lt;chr&gt; | x1 &lt;dbl&gt; | x2 &lt;dbl&gt; | x3 &lt;dbl&gt; |\n",
       "|---|---|---|---|---|\n",
       "| 1 | A | 2.5 | 7.0 |  9 |\n",
       "| 2 | B | 2.0 | 3.5 | 10 |\n",
       "\n"
      ],
      "text/plain": [
       "  name x1  x2  x3\n",
       "1 A    2.5 7.0  9\n",
       "2 B    2.0 3.5 10"
      ]
     },
     "metadata": {},
     "output_type": "display_data"
    }
   ],
   "source": [
    "data[1:2,]"
   ]
  },
  {
   "cell_type": "markdown",
   "metadata": {},
   "source": [
    "## Problem 5\n",
    "\n",
    "Select variable `x1` of the dataset presented as a vector."
   ]
  },
  {
   "cell_type": "code",
   "execution_count": 22,
   "metadata": {
    "vscode": {
     "languageId": "r"
    }
   },
   "outputs": [
    {
     "data": {
      "text/html": [
       "<style>\n",
       ".list-inline {list-style: none; margin:0; padding: 0}\n",
       ".list-inline>li {display: inline-block}\n",
       ".list-inline>li:not(:last-child)::after {content: \"\\00b7\"; padding: 0 .5ex}\n",
       "</style>\n",
       "<ol class=list-inline><li>2.5</li><li>2</li><li>9</li><li>6.5</li><li>8</li><li>4</li></ol>\n"
      ],
      "text/latex": [
       "\\begin{enumerate*}\n",
       "\\item 2.5\n",
       "\\item 2\n",
       "\\item 9\n",
       "\\item 6.5\n",
       "\\item 8\n",
       "\\item 4\n",
       "\\end{enumerate*}\n"
      ],
      "text/markdown": [
       "1. 2.5\n",
       "2. 2\n",
       "3. 9\n",
       "4. 6.5\n",
       "5. 8\n",
       "6. 4\n",
       "\n",
       "\n"
      ],
      "text/plain": [
       "[1] 2.5 2.0 9.0 6.5 8.0 4.0"
      ]
     },
     "metadata": {},
     "output_type": "display_data"
    }
   ],
   "source": [
    "data$x1"
   ]
  },
  {
   "cell_type": "markdown",
   "metadata": {},
   "source": [
    "## Problem 6\n",
    "\n",
    "Select the numeric variables of observation 1 of the dataset presented as a vector.\n",
    "\n",
    "You may want to use these function(s):\n",
    "* as.numeric()"
   ]
  },
  {
   "cell_type": "code",
   "execution_count": 23,
   "metadata": {
    "scrolled": true,
    "vscode": {
     "languageId": "r"
    }
   },
   "outputs": [
    {
     "data": {
      "text/html": [
       "<style>\n",
       ".list-inline {list-style: none; margin:0; padding: 0}\n",
       ".list-inline>li {display: inline-block}\n",
       ".list-inline>li:not(:last-child)::after {content: \"\\00b7\"; padding: 0 .5ex}\n",
       "</style>\n",
       "<ol class=list-inline><li>2.5</li><li>7</li><li>9</li></ol>\n"
      ],
      "text/latex": [
       "\\begin{enumerate*}\n",
       "\\item 2.5\n",
       "\\item 7\n",
       "\\item 9\n",
       "\\end{enumerate*}\n"
      ],
      "text/markdown": [
       "1. 2.5\n",
       "2. 7\n",
       "3. 9\n",
       "\n",
       "\n"
      ],
      "text/plain": [
       "[1] 2.5 7.0 9.0"
      ]
     },
     "metadata": {},
     "output_type": "display_data"
    }
   ],
   "source": [
    "as.numeric(data[1, 2:ncol(data)])"
   ]
  },
  {
   "cell_type": "markdown",
   "metadata": {},
   "source": [
    "## Problem 7\n",
    "\n",
    "Change the dataset to include this additional observation: name is F, x1 is 3.1, x2 is 4.2, x3 is 5.3.\n",
    "\n",
    "You may want to use these function(s):\n",
    "* rbind()\n",
    "* data.frame()"
   ]
  },
  {
   "cell_type": "code",
   "execution_count": 24,
   "metadata": {
    "vscode": {
     "languageId": "r"
    }
   },
   "outputs": [
    {
     "data": {
      "text/html": [
       "<table class=\"dataframe\">\n",
       "<caption>A data.frame: 7 × 4</caption>\n",
       "<thead>\n",
       "\t<tr><th scope=col>name</th><th scope=col>x1</th><th scope=col>x2</th><th scope=col>x3</th></tr>\n",
       "\t<tr><th scope=col>&lt;chr&gt;</th><th scope=col>&lt;dbl&gt;</th><th scope=col>&lt;dbl&gt;</th><th scope=col>&lt;dbl&gt;</th></tr>\n",
       "</thead>\n",
       "<tbody>\n",
       "\t<tr><td>A</td><td>2.5</td><td>7.0</td><td> 9.0</td></tr>\n",
       "\t<tr><td>B</td><td>2.0</td><td>3.5</td><td>10.0</td></tr>\n",
       "\t<tr><td>C</td><td>9.0</td><td>1.0</td><td> 1.0</td></tr>\n",
       "\t<tr><td>D</td><td>6.5</td><td>7.0</td><td> 2.0</td></tr>\n",
       "\t<tr><td>E</td><td>8.0</td><td>2.5</td><td> 1.5</td></tr>\n",
       "\t<tr><td>F</td><td>4.0</td><td>8.5</td><td> 9.0</td></tr>\n",
       "\t<tr><td>F</td><td>3.1</td><td>4.2</td><td> 5.3</td></tr>\n",
       "</tbody>\n",
       "</table>\n"
      ],
      "text/latex": [
       "A data.frame: 7 × 4\n",
       "\\begin{tabular}{llll}\n",
       " name & x1 & x2 & x3\\\\\n",
       " <chr> & <dbl> & <dbl> & <dbl>\\\\\n",
       "\\hline\n",
       "\t A & 2.5 & 7.0 &  9.0\\\\\n",
       "\t B & 2.0 & 3.5 & 10.0\\\\\n",
       "\t C & 9.0 & 1.0 &  1.0\\\\\n",
       "\t D & 6.5 & 7.0 &  2.0\\\\\n",
       "\t E & 8.0 & 2.5 &  1.5\\\\\n",
       "\t F & 4.0 & 8.5 &  9.0\\\\\n",
       "\t F & 3.1 & 4.2 &  5.3\\\\\n",
       "\\end{tabular}\n"
      ],
      "text/markdown": [
       "\n",
       "A data.frame: 7 × 4\n",
       "\n",
       "| name &lt;chr&gt; | x1 &lt;dbl&gt; | x2 &lt;dbl&gt; | x3 &lt;dbl&gt; |\n",
       "|---|---|---|---|\n",
       "| A | 2.5 | 7.0 |  9.0 |\n",
       "| B | 2.0 | 3.5 | 10.0 |\n",
       "| C | 9.0 | 1.0 |  1.0 |\n",
       "| D | 6.5 | 7.0 |  2.0 |\n",
       "| E | 8.0 | 2.5 |  1.5 |\n",
       "| F | 4.0 | 8.5 |  9.0 |\n",
       "| F | 3.1 | 4.2 |  5.3 |\n",
       "\n"
      ],
      "text/plain": [
       "  name x1  x2  x3  \n",
       "1 A    2.5 7.0  9.0\n",
       "2 B    2.0 3.5 10.0\n",
       "3 C    9.0 1.0  1.0\n",
       "4 D    6.5 7.0  2.0\n",
       "5 E    8.0 2.5  1.5\n",
       "6 F    4.0 8.5  9.0\n",
       "7 F    3.1 4.2  5.3"
      ]
     },
     "metadata": {},
     "output_type": "display_data"
    }
   ],
   "source": [
    "rbind(data, data.frame(name='F', x1=3.1, x2=4.2, x3=5.3))"
   ]
  },
  {
   "cell_type": "markdown",
   "metadata": {},
   "source": [
    "## Problem 8\n",
    "\n",
    "Construct another dataset (i.e., dataframe) with 4 observations and 3 variables, as follows:\n",
    "* The first variable is named `name` and comprises these values: A, C, D, F\n",
    "* The second variable is named `x4` and comprises these values: 2.5, 2, 9, 6.5\n",
    "* The third variabe is named `x5` and comprises these values: 7, 3.5, 1, 7\n",
    "\n",
    "Then join by name this new dataset to the previous dataset (from problem 7).\n",
    "\n",
    "You may want to use these function(s):\n",
    "* data.frame()\n",
    "* merge()"
   ]
  },
  {
   "cell_type": "code",
   "execution_count": 25,
   "metadata": {
    "vscode": {
     "languageId": "r"
    }
   },
   "outputs": [
    {
     "data": {
      "text/html": [
       "<table class=\"dataframe\">\n",
       "<caption>A data.frame: 4 × 6</caption>\n",
       "<thead>\n",
       "\t<tr><th scope=col>name</th><th scope=col>x1</th><th scope=col>x2</th><th scope=col>x3</th><th scope=col>x4</th><th scope=col>x5</th></tr>\n",
       "\t<tr><th scope=col>&lt;chr&gt;</th><th scope=col>&lt;dbl&gt;</th><th scope=col>&lt;dbl&gt;</th><th scope=col>&lt;dbl&gt;</th><th scope=col>&lt;dbl&gt;</th><th scope=col>&lt;dbl&gt;</th></tr>\n",
       "</thead>\n",
       "<tbody>\n",
       "\t<tr><td>A</td><td>2.5</td><td>7.0</td><td>9</td><td>2.5</td><td>7.0</td></tr>\n",
       "\t<tr><td>C</td><td>9.0</td><td>1.0</td><td>1</td><td>2.0</td><td>3.5</td></tr>\n",
       "\t<tr><td>D</td><td>6.5</td><td>7.0</td><td>2</td><td>9.0</td><td>1.0</td></tr>\n",
       "\t<tr><td>F</td><td>4.0</td><td>8.5</td><td>9</td><td>6.5</td><td>7.0</td></tr>\n",
       "</tbody>\n",
       "</table>\n"
      ],
      "text/latex": [
       "A data.frame: 4 × 6\n",
       "\\begin{tabular}{llllll}\n",
       " name & x1 & x2 & x3 & x4 & x5\\\\\n",
       " <chr> & <dbl> & <dbl> & <dbl> & <dbl> & <dbl>\\\\\n",
       "\\hline\n",
       "\t A & 2.5 & 7.0 & 9 & 2.5 & 7.0\\\\\n",
       "\t C & 9.0 & 1.0 & 1 & 2.0 & 3.5\\\\\n",
       "\t D & 6.5 & 7.0 & 2 & 9.0 & 1.0\\\\\n",
       "\t F & 4.0 & 8.5 & 9 & 6.5 & 7.0\\\\\n",
       "\\end{tabular}\n"
      ],
      "text/markdown": [
       "\n",
       "A data.frame: 4 × 6\n",
       "\n",
       "| name &lt;chr&gt; | x1 &lt;dbl&gt; | x2 &lt;dbl&gt; | x3 &lt;dbl&gt; | x4 &lt;dbl&gt; | x5 &lt;dbl&gt; |\n",
       "|---|---|---|---|---|---|\n",
       "| A | 2.5 | 7.0 | 9 | 2.5 | 7.0 |\n",
       "| C | 9.0 | 1.0 | 1 | 2.0 | 3.5 |\n",
       "| D | 6.5 | 7.0 | 2 | 9.0 | 1.0 |\n",
       "| F | 4.0 | 8.5 | 9 | 6.5 | 7.0 |\n",
       "\n"
      ],
      "text/plain": [
       "  name x1  x2  x3 x4  x5 \n",
       "1 A    2.5 7.0 9  2.5 7.0\n",
       "2 C    9.0 1.0 1  2.0 3.5\n",
       "3 D    6.5 7.0 2  9.0 1.0\n",
       "4 F    4.0 8.5 9  6.5 7.0"
      ]
     },
     "metadata": {},
     "output_type": "display_data"
    }
   ],
   "source": [
    "data2 = data.frame(name=c(\"A\", \"C\", \"D\", \"F\"),\n",
    "                   x4=c(2.5, 2, 9, 6.5),\n",
    "                   x5=c(7, 3.5, 1, 7))\n",
    "merge(data, data2)"
   ]
  },
  {
   "cell_type": "markdown",
   "metadata": {},
   "source": [
    "## Problem 9\n",
    "\n",
    "Summarize the dataset as the correlation of variables `x1` vs. `x2`.  \n",
    "\n",
    "You may want to use these function(s):\n",
    "* cor()\n",
    "\n",
    "Note: `cor` can be used in 2 ways. `cor(table)` results in a table.  `cor(vector, vector)` results in a number.  Use the `cor(vector, vector)` form. "
   ]
  },
  {
   "cell_type": "code",
   "execution_count": 26,
   "metadata": {
    "vscode": {
     "languageId": "r"
    }
   },
   "outputs": [
    {
     "data": {
      "text/html": [
       "-0.556053308075072"
      ],
      "text/latex": [
       "-0.556053308075072"
      ],
      "text/markdown": [
       "-0.556053308075072"
      ],
      "text/plain": [
       "[1] -0.5560533"
      ]
     },
     "metadata": {},
     "output_type": "display_data"
    }
   ],
   "source": [
    "cor(data$x1, data$x2)"
   ]
  },
  {
   "cell_type": "markdown",
   "metadata": {},
   "source": [
    "## Problem 10\n",
    "\n",
    "Summarize the dataset as a table with rows for variables `x1`, `x2`, and `x3`, and columns for the mean, standard deviation, median, minimum, maximum, and range **calculated across only the first and second** observations.\n",
    "\n",
    "You may want to use these function(s):\n",
    "* describe()\n",
    "* as.data.frame()\n",
    "\n",
    "Note: `describe` accepts one parameter - it accepts the table on which it will calculate statistics."
   ]
  },
  {
   "cell_type": "code",
   "execution_count": 27,
   "metadata": {
    "vscode": {
     "languageId": "r"
    }
   },
   "outputs": [
    {
     "data": {
      "text/html": [
       "<table class=\"dataframe\">\n",
       "<caption>A psych: 3 × 6</caption>\n",
       "<thead>\n",
       "\t<tr><th></th><th scope=col>mean</th><th scope=col>sd</th><th scope=col>median</th><th scope=col>min</th><th scope=col>max</th><th scope=col>range</th></tr>\n",
       "\t<tr><th></th><th scope=col>&lt;dbl&gt;</th><th scope=col>&lt;dbl&gt;</th><th scope=col>&lt;dbl&gt;</th><th scope=col>&lt;dbl&gt;</th><th scope=col>&lt;dbl&gt;</th><th scope=col>&lt;dbl&gt;</th></tr>\n",
       "</thead>\n",
       "<tbody>\n",
       "\t<tr><th scope=row>x1</th><td>2.25</td><td>0.3535534</td><td>2.25</td><td>2.0</td><td> 2.5</td><td>0.5</td></tr>\n",
       "\t<tr><th scope=row>x2</th><td>5.25</td><td>2.4748737</td><td>5.25</td><td>3.5</td><td> 7.0</td><td>3.5</td></tr>\n",
       "\t<tr><th scope=row>x3</th><td>9.50</td><td>0.7071068</td><td>9.50</td><td>9.0</td><td>10.0</td><td>1.0</td></tr>\n",
       "</tbody>\n",
       "</table>\n"
      ],
      "text/latex": [
       "A psych: 3 × 6\n",
       "\\begin{tabular}{r|llllll}\n",
       "  & mean & sd & median & min & max & range\\\\\n",
       "  & <dbl> & <dbl> & <dbl> & <dbl> & <dbl> & <dbl>\\\\\n",
       "\\hline\n",
       "\tx1 & 2.25 & 0.3535534 & 2.25 & 2.0 &  2.5 & 0.5\\\\\n",
       "\tx2 & 5.25 & 2.4748737 & 5.25 & 3.5 &  7.0 & 3.5\\\\\n",
       "\tx3 & 9.50 & 0.7071068 & 9.50 & 9.0 & 10.0 & 1.0\\\\\n",
       "\\end{tabular}\n"
      ],
      "text/markdown": [
       "\n",
       "A psych: 3 × 6\n",
       "\n",
       "| <!--/--> | mean &lt;dbl&gt; | sd &lt;dbl&gt; | median &lt;dbl&gt; | min &lt;dbl&gt; | max &lt;dbl&gt; | range &lt;dbl&gt; |\n",
       "|---|---|---|---|---|---|---|\n",
       "| x1 | 2.25 | 0.3535534 | 2.25 | 2.0 |  2.5 | 0.5 |\n",
       "| x2 | 5.25 | 2.4748737 | 5.25 | 3.5 |  7.0 | 3.5 |\n",
       "| x3 | 9.50 | 0.7071068 | 9.50 | 9.0 | 10.0 | 1.0 |\n",
       "\n"
      ],
      "text/plain": [
       "   mean sd        median min max  range\n",
       "x1 2.25 0.3535534 2.25   2.0  2.5 0.5  \n",
       "x2 5.25 2.4748737 5.25   3.5  7.0 3.5  \n",
       "x3 9.50 0.7071068 9.50   9.0 10.0 1.0  "
      ]
     },
     "metadata": {},
     "output_type": "display_data"
    }
   ],
   "source": [
    "describe(data[1:2, c(\"x1\", \"x2\", \"x3\")])[c(3, 4, 5, 8, 9, 10)]"
   ]
  },
  {
   "cell_type": "markdown",
   "metadata": {},
   "source": [
    "## Problem 11\n",
    "\n",
    "Select the most frequently occuring value in variable `x2` (from the full dataset).\n",
    "\n",
    "You may want to use these function(s):\n",
    "* table()\n",
    "* which.max()\n",
    "\n",
    "Note: `x2` is a numeric variable, not a categorical (factor) variable, so result should be numeric."
   ]
  },
  {
   "cell_type": "code",
   "execution_count": 28,
   "metadata": {
    "vscode": {
     "languageId": "r"
    }
   },
   "outputs": [
    {
     "data": {
      "text/html": [
       "7"
      ],
      "text/latex": [
       "7"
      ],
      "text/markdown": [
       "7"
      ],
      "text/plain": [
       "[1] 7"
      ]
     },
     "metadata": {},
     "output_type": "display_data"
    }
   ],
   "source": [
    "data$x2[which.max(table(data$x2))]"
   ]
  },
  {
   "cell_type": "markdown",
   "metadata": {},
   "source": [
    "## Problem 12\n",
    "\n",
    "Use named-based selection to reorder variables as `name`, `x3`, `x2`, and `x1`, and use criterion-based selection to select only the observations where `x1` is greater than 2 and not equal to `x3` (from the full dataset).  Then add a synthetic variable that expresses the means of the numeric variables.  Then use an observation offset to add a synthetic variable that expresses the difference between the means of adjecent observations.\n",
    "\n",
    "You may want to use these function(s):\n",
    "* rowMeans()\n",
    "\n",
    "Note: `!=` is the operator to test for non-equivalence."
   ]
  },
  {
   "cell_type": "code",
   "execution_count": 29,
   "metadata": {
    "vscode": {
     "languageId": "r"
    }
   },
   "outputs": [
    {
     "data": {
      "text/html": [
       "<table class=\"dataframe\">\n",
       "<caption>A data.frame: 5 × 4</caption>\n",
       "<thead>\n",
       "\t<tr><th></th><th scope=col>name</th><th scope=col>x3</th><th scope=col>x2</th><th scope=col>x1</th></tr>\n",
       "\t<tr><th></th><th scope=col>&lt;chr&gt;</th><th scope=col>&lt;dbl&gt;</th><th scope=col>&lt;dbl&gt;</th><th scope=col>&lt;dbl&gt;</th></tr>\n",
       "</thead>\n",
       "<tbody>\n",
       "\t<tr><th scope=row>1</th><td>A</td><td>9.0</td><td>7.0</td><td>2.5</td></tr>\n",
       "\t<tr><th scope=row>3</th><td>C</td><td>1.0</td><td>1.0</td><td>9.0</td></tr>\n",
       "\t<tr><th scope=row>4</th><td>D</td><td>2.0</td><td>7.0</td><td>6.5</td></tr>\n",
       "\t<tr><th scope=row>5</th><td>E</td><td>1.5</td><td>2.5</td><td>8.0</td></tr>\n",
       "\t<tr><th scope=row>6</th><td>F</td><td>9.0</td><td>8.5</td><td>4.0</td></tr>\n",
       "</tbody>\n",
       "</table>\n"
      ],
      "text/latex": [
       "A data.frame: 5 × 4\n",
       "\\begin{tabular}{r|llll}\n",
       "  & name & x3 & x2 & x1\\\\\n",
       "  & <chr> & <dbl> & <dbl> & <dbl>\\\\\n",
       "\\hline\n",
       "\t1 & A & 9.0 & 7.0 & 2.5\\\\\n",
       "\t3 & C & 1.0 & 1.0 & 9.0\\\\\n",
       "\t4 & D & 2.0 & 7.0 & 6.5\\\\\n",
       "\t5 & E & 1.5 & 2.5 & 8.0\\\\\n",
       "\t6 & F & 9.0 & 8.5 & 4.0\\\\\n",
       "\\end{tabular}\n"
      ],
      "text/markdown": [
       "\n",
       "A data.frame: 5 × 4\n",
       "\n",
       "| <!--/--> | name &lt;chr&gt; | x3 &lt;dbl&gt; | x2 &lt;dbl&gt; | x1 &lt;dbl&gt; |\n",
       "|---|---|---|---|---|\n",
       "| 1 | A | 9.0 | 7.0 | 2.5 |\n",
       "| 3 | C | 1.0 | 1.0 | 9.0 |\n",
       "| 4 | D | 2.0 | 7.0 | 6.5 |\n",
       "| 5 | E | 1.5 | 2.5 | 8.0 |\n",
       "| 6 | F | 9.0 | 8.5 | 4.0 |\n",
       "\n"
      ],
      "text/plain": [
       "  name x3  x2  x1 \n",
       "1 A    9.0 7.0 2.5\n",
       "3 C    1.0 1.0 9.0\n",
       "4 D    2.0 7.0 6.5\n",
       "5 E    1.5 2.5 8.0\n",
       "6 F    9.0 8.5 4.0"
      ]
     },
     "metadata": {},
     "output_type": "display_data"
    }
   ],
   "source": [
    "data1 = data[((data$x1 > 2.0) & (data$x1 != data$x3)), c(\"name\", \"x3\", \"x2\", \"x1\")]\n",
    "data1"
   ]
  },
  {
   "cell_type": "code",
   "execution_count": 30,
   "metadata": {
    "vscode": {
     "languageId": "r"
    }
   },
   "outputs": [
    {
     "data": {
      "text/html": [
       "<table class=\"dataframe\">\n",
       "<caption>A data.frame: 5 × 5</caption>\n",
       "<thead>\n",
       "\t<tr><th></th><th scope=col>name</th><th scope=col>x3</th><th scope=col>x2</th><th scope=col>x1</th><th scope=col>mean</th></tr>\n",
       "\t<tr><th></th><th scope=col>&lt;chr&gt;</th><th scope=col>&lt;dbl&gt;</th><th scope=col>&lt;dbl&gt;</th><th scope=col>&lt;dbl&gt;</th><th scope=col>&lt;dbl&gt;</th></tr>\n",
       "</thead>\n",
       "<tbody>\n",
       "\t<tr><th scope=row>1</th><td>A</td><td>9.0</td><td>7.0</td><td>2.5</td><td>6.166667</td></tr>\n",
       "\t<tr><th scope=row>3</th><td>C</td><td>1.0</td><td>1.0</td><td>9.0</td><td>3.666667</td></tr>\n",
       "\t<tr><th scope=row>4</th><td>D</td><td>2.0</td><td>7.0</td><td>6.5</td><td>5.166667</td></tr>\n",
       "\t<tr><th scope=row>5</th><td>E</td><td>1.5</td><td>2.5</td><td>8.0</td><td>4.000000</td></tr>\n",
       "\t<tr><th scope=row>6</th><td>F</td><td>9.0</td><td>8.5</td><td>4.0</td><td>7.166667</td></tr>\n",
       "</tbody>\n",
       "</table>\n"
      ],
      "text/latex": [
       "A data.frame: 5 × 5\n",
       "\\begin{tabular}{r|lllll}\n",
       "  & name & x3 & x2 & x1 & mean\\\\\n",
       "  & <chr> & <dbl> & <dbl> & <dbl> & <dbl>\\\\\n",
       "\\hline\n",
       "\t1 & A & 9.0 & 7.0 & 2.5 & 6.166667\\\\\n",
       "\t3 & C & 1.0 & 1.0 & 9.0 & 3.666667\\\\\n",
       "\t4 & D & 2.0 & 7.0 & 6.5 & 5.166667\\\\\n",
       "\t5 & E & 1.5 & 2.5 & 8.0 & 4.000000\\\\\n",
       "\t6 & F & 9.0 & 8.5 & 4.0 & 7.166667\\\\\n",
       "\\end{tabular}\n"
      ],
      "text/markdown": [
       "\n",
       "A data.frame: 5 × 5\n",
       "\n",
       "| <!--/--> | name &lt;chr&gt; | x3 &lt;dbl&gt; | x2 &lt;dbl&gt; | x1 &lt;dbl&gt; | mean &lt;dbl&gt; |\n",
       "|---|---|---|---|---|---|\n",
       "| 1 | A | 9.0 | 7.0 | 2.5 | 6.166667 |\n",
       "| 3 | C | 1.0 | 1.0 | 9.0 | 3.666667 |\n",
       "| 4 | D | 2.0 | 7.0 | 6.5 | 5.166667 |\n",
       "| 5 | E | 1.5 | 2.5 | 8.0 | 4.000000 |\n",
       "| 6 | F | 9.0 | 8.5 | 4.0 | 7.166667 |\n",
       "\n"
      ],
      "text/plain": [
       "  name x3  x2  x1  mean    \n",
       "1 A    9.0 7.0 2.5 6.166667\n",
       "3 C    1.0 1.0 9.0 3.666667\n",
       "4 D    2.0 7.0 6.5 5.166667\n",
       "5 E    1.5 2.5 8.0 4.000000\n",
       "6 F    9.0 8.5 4.0 7.166667"
      ]
     },
     "metadata": {},
     "output_type": "display_data"
    }
   ],
   "source": [
    "mean = rowMeans(data1[c(\"x3\", \"x2\", \"x1\")])\n",
    "data2 = cbind(data1, mean)\n",
    "data2"
   ]
  },
  {
   "cell_type": "code",
   "execution_count": 31,
   "metadata": {
    "vscode": {
     "languageId": "r"
    }
   },
   "outputs": [
    {
     "data": {
      "text/html": [
       "<table class=\"dataframe\">\n",
       "<caption>A data.frame: 5 × 6</caption>\n",
       "<thead>\n",
       "\t<tr><th></th><th scope=col>name</th><th scope=col>x3</th><th scope=col>x2</th><th scope=col>x1</th><th scope=col>mean</th><th scope=col>diff</th></tr>\n",
       "\t<tr><th></th><th scope=col>&lt;chr&gt;</th><th scope=col>&lt;dbl&gt;</th><th scope=col>&lt;dbl&gt;</th><th scope=col>&lt;dbl&gt;</th><th scope=col>&lt;dbl&gt;</th><th scope=col>&lt;dbl&gt;</th></tr>\n",
       "</thead>\n",
       "<tbody>\n",
       "\t<tr><th scope=row>1</th><td>A</td><td>9.0</td><td>7.0</td><td>2.5</td><td>6.166667</td><td> 2.500000</td></tr>\n",
       "\t<tr><th scope=row>3</th><td>C</td><td>1.0</td><td>1.0</td><td>9.0</td><td>3.666667</td><td>-1.500000</td></tr>\n",
       "\t<tr><th scope=row>4</th><td>D</td><td>2.0</td><td>7.0</td><td>6.5</td><td>5.166667</td><td> 1.166667</td></tr>\n",
       "\t<tr><th scope=row>5</th><td>E</td><td>1.5</td><td>2.5</td><td>8.0</td><td>4.000000</td><td>-3.166667</td></tr>\n",
       "\t<tr><th scope=row>6</th><td>F</td><td>9.0</td><td>8.5</td><td>4.0</td><td>7.166667</td><td>       NA</td></tr>\n",
       "</tbody>\n",
       "</table>\n"
      ],
      "text/latex": [
       "A data.frame: 5 × 6\n",
       "\\begin{tabular}{r|llllll}\n",
       "  & name & x3 & x2 & x1 & mean & diff\\\\\n",
       "  & <chr> & <dbl> & <dbl> & <dbl> & <dbl> & <dbl>\\\\\n",
       "\\hline\n",
       "\t1 & A & 9.0 & 7.0 & 2.5 & 6.166667 &  2.500000\\\\\n",
       "\t3 & C & 1.0 & 1.0 & 9.0 & 3.666667 & -1.500000\\\\\n",
       "\t4 & D & 2.0 & 7.0 & 6.5 & 5.166667 &  1.166667\\\\\n",
       "\t5 & E & 1.5 & 2.5 & 8.0 & 4.000000 & -3.166667\\\\\n",
       "\t6 & F & 9.0 & 8.5 & 4.0 & 7.166667 &        NA\\\\\n",
       "\\end{tabular}\n"
      ],
      "text/markdown": [
       "\n",
       "A data.frame: 5 × 6\n",
       "\n",
       "| <!--/--> | name &lt;chr&gt; | x3 &lt;dbl&gt; | x2 &lt;dbl&gt; | x1 &lt;dbl&gt; | mean &lt;dbl&gt; | diff &lt;dbl&gt; |\n",
       "|---|---|---|---|---|---|---|\n",
       "| 1 | A | 9.0 | 7.0 | 2.5 | 6.166667 |  2.500000 |\n",
       "| 3 | C | 1.0 | 1.0 | 9.0 | 3.666667 | -1.500000 |\n",
       "| 4 | D | 2.0 | 7.0 | 6.5 | 5.166667 |  1.166667 |\n",
       "| 5 | E | 1.5 | 2.5 | 8.0 | 4.000000 | -3.166667 |\n",
       "| 6 | F | 9.0 | 8.5 | 4.0 | 7.166667 |        NA |\n",
       "\n"
      ],
      "text/plain": [
       "  name x3  x2  x1  mean     diff     \n",
       "1 A    9.0 7.0 2.5 6.166667  2.500000\n",
       "3 C    1.0 1.0 9.0 3.666667 -1.500000\n",
       "4 D    2.0 7.0 6.5 5.166667  1.166667\n",
       "5 E    1.5 2.5 8.0 4.000000 -3.166667\n",
       "6 F    9.0 8.5 4.0 7.166667        NA"
      ]
     },
     "metadata": {},
     "output_type": "display_data"
    }
   ],
   "source": [
    "diff = data2$mean - data2$mean[2:nrow(data2)]\n",
    "diff[nrow(data2)] = NA\n",
    "cbind(data2, diff)"
   ]
  }
 ],
 "metadata": {
  "hide_code_all_hidden": false,
  "hide_input": false,
  "kernelspec": {
   "display_name": "R",
   "language": "R",
   "name": "ir"
  },
  "language_info": {
   "codemirror_mode": "r",
   "file_extension": ".r",
   "mimetype": "text/x-r-source",
   "name": "R",
   "pygments_lexer": "r",
   "version": "4.2.0"
  },
  "toc": {
   "base_numbering": 1,
   "nav_menu": {},
   "number_sections": false,
   "sideBar": true,
   "skip_h1_title": true,
   "title_cell": "Table of Contents",
   "title_sidebar": "Contents",
   "toc_cell": false,
   "toc_position": {},
   "toc_section_display": true,
   "toc_window_display": false
  }
 },
 "nbformat": 4,
 "nbformat_minor": 2
}
