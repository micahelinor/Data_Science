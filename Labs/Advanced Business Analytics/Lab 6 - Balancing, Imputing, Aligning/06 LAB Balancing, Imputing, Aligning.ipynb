{
 "cells": [
  {
   "cell_type": "markdown",
   "metadata": {
    "hideCode": false,
    "hidePrompt": false
   },
   "source": [
    "# Balancing, Imputing, & Aligning"
   ]
  },
  {
   "cell_type": "markdown",
   "metadata": {},
   "source": [
    "**Write and execute R code in the code cells per the instructions.  The expected results are provided for you directly following the code cells.**"
   ]
  },
  {
   "cell_type": "code",
   "execution_count": 131,
   "metadata": {
    "vscode": {
     "languageId": "r"
    }
   },
   "outputs": [],
   "source": [
    "f = \"setup.R\"; for (i in 1:10) { if (file.exists(f)) break else f = paste0(\"../\", f) }; source(f)"
   ]
  },
  {
   "cell_type": "markdown",
   "metadata": {
    "hide_input": false
   },
   "source": [
    "## Data"
   ]
  },
  {
   "cell_type": "markdown",
   "metadata": {},
   "source": [
    "Here is a dataset of some daily measurements regarding popularity of some product. "
   ]
  },
  {
   "cell_type": "code",
   "execution_count": 132,
   "metadata": {
    "hideCode": false,
    "hidePrompt": false,
    "hide_input": false,
    "run_control": {
     "marked": false
    },
    "scrolled": false,
    "vscode": {
     "languageId": "r"
    }
   },
   "outputs": [
    {
     "data": {
      "text/html": [
       "<table style=\"white-space: nowrap; background: white; color: black;\">\n",
       "<caption><center><font color=\"black\"><b>data.1</b></font></center></caption>\n",
       " <thead>\n",
       "  <tr>\n",
       "   <th style=\"text-align:right;color: black !important;background-color: #FFFFFF !important;\"> date </th>\n",
       "   <th style=\"text-align:right;color: black !important;background-color: #FFFFFF !important;\"> x1 </th>\n",
       "   <th style=\"text-align:right;color: black !important;background-color: #FFFFFF !important;\"> x2 </th>\n",
       "   <th style=\"text-align:right;color: black !important;background-color: #FFFFFF !important;\"> x3 </th>\n",
       "  </tr>\n",
       " </thead>\n",
       "<tbody>\n",
       "  <tr>\n",
       "   <td style=\"text-align:right;\"> 2017-12-30 </td>\n",
       "   <td style=\"text-align:right;\"> 2.5 </td>\n",
       "   <td style=\"text-align:right;\"> 9.0 </td>\n",
       "   <td style=\"text-align:right;\"> 9.0 </td>\n",
       "  </tr>\n",
       "  <tr>\n",
       "   <td style=\"text-align:right;\"> 2017-12-31 </td>\n",
       "   <td style=\"text-align:right;\"> 2.0 </td>\n",
       "   <td style=\"text-align:right;\"> NA </td>\n",
       "   <td style=\"text-align:right;\"> 10.0 </td>\n",
       "  </tr>\n",
       "  <tr>\n",
       "   <td style=\"text-align:right;\"> 2018-01-01 </td>\n",
       "   <td style=\"text-align:right;\"> 9.0 </td>\n",
       "   <td style=\"text-align:right;\"> NA </td>\n",
       "   <td style=\"text-align:right;\"> 1.0 </td>\n",
       "  </tr>\n",
       "  <tr>\n",
       "   <td style=\"text-align:right;\"> 2018-01-02 </td>\n",
       "   <td style=\"text-align:right;\"> 6.5 </td>\n",
       "   <td style=\"text-align:right;\"> NA </td>\n",
       "   <td style=\"text-align:right;\"> 2.0 </td>\n",
       "  </tr>\n",
       "  <tr>\n",
       "   <td style=\"text-align:right;\"> 2018-01-03 </td>\n",
       "   <td style=\"text-align:right;\"> 8.0 </td>\n",
       "   <td style=\"text-align:right;\"> 2.5 </td>\n",
       "   <td style=\"text-align:right;\"> 1.5 </td>\n",
       "  </tr>\n",
       "  <tr>\n",
       "   <td style=\"text-align:right;\"> 2018-01-04 </td>\n",
       "   <td style=\"text-align:right;\"> 4.0 </td>\n",
       "   <td style=\"text-align:right;\"> 8.5 </td>\n",
       "   <td style=\"text-align:right;\"> 10.5 </td>\n",
       "  </tr>\n",
       "  <tr>\n",
       "   <td style=\"text-align:right;\"> 2018-01-05 </td>\n",
       "   <td style=\"text-align:right;\"> 4.0 </td>\n",
       "   <td style=\"text-align:right;\"> 4.0 </td>\n",
       "   <td style=\"text-align:right;\"> 4.0 </td>\n",
       "  </tr>\n",
       "  <tr>\n",
       "   <td style=\"text-align:right;\"> 2018-01-06 </td>\n",
       "   <td style=\"text-align:right;\"> 10.5 </td>\n",
       "   <td style=\"text-align:right;\"> 7.5 </td>\n",
       "   <td style=\"text-align:right;\"> 11.0 </td>\n",
       "  </tr>\n",
       "  <tr>\n",
       "   <td style=\"text-align:right;\"> 2018-01-07 </td>\n",
       "   <td style=\"text-align:right;\"> 3.0 </td>\n",
       "   <td style=\"text-align:right;\"> 3.0 </td>\n",
       "   <td style=\"text-align:right;\"> 3.0 </td>\n",
       "  </tr>\n",
       "  <tr>\n",
       "   <td style=\"text-align:right;\"> 2018-01-08 </td>\n",
       "   <td style=\"text-align:right;\"> 23.0 </td>\n",
       "   <td style=\"text-align:right;\"> 23.0 </td>\n",
       "   <td style=\"text-align:right;\"> 23.0 </td>\n",
       "  </tr>\n",
       "  <tr>\n",
       "   <td style=\"text-align:right;\"> 2018-01-09 </td>\n",
       "   <td style=\"text-align:right;\"> 12.0 </td>\n",
       "   <td style=\"text-align:right;\"> 12.0 </td>\n",
       "   <td style=\"text-align:right;\"> 12.0 </td>\n",
       "  </tr>\n",
       "  <tr>\n",
       "   <td style=\"text-align:right;color: black !important;background-color: #FFFFFF !important;\"> 2018-01-10 </td>\n",
       "   <td style=\"text-align:right;color: black !important;background-color: #FFFFFF !important;\"> 20.0 </td>\n",
       "   <td style=\"text-align:right;color: black !important;background-color: #FFFFFF !important;\"> 20.0 </td>\n",
       "   <td style=\"text-align:right;color: black !important;background-color: #FFFFFF !important;\"> 20.0 </td>\n",
       "  </tr>\n",
       "</tbody>\n",
       "</table>"
      ]
     },
     "metadata": {},
     "output_type": "display_data"
    }
   ],
   "source": [
    "data.1 = data.frame(date=ymd(c(\"2017-12-30\",\"2017-12-31\",\"2018-01-01\",\"2018-01-02\",\"2018-01-03\",\"2018-01-04\",\n",
    "                               \"2018-01-05\",\"2018-01-06\",\"2018-01-07\",\"2018-01-08\",\"2018-01-09\",\"2018-01-10\")),\n",
    "                    x1=c(2.5, 2, 9, 6.5, 8, 4, 4, 10.5, 3, 23, 12, 20),\n",
    "                    x2=c(9, NA, NA, NA, 2.5, 8.5, 4, 7.5, 3, 23, 12, 20),\n",
    "                    x3=c(9, 10, 1, 2, 1.5, 10.5, 4, 11, 3, 23, 12, 20))\n",
    "fmt(data.1)"
   ]
  },
  {
   "cell_type": "markdown",
   "metadata": {},
   "source": [
    "Here is a related dataset of daily revenue generated by each of 2 teams that sell the product."
   ]
  },
  {
   "cell_type": "code",
   "execution_count": 133,
   "metadata": {
    "vscode": {
     "languageId": "r"
    }
   },
   "outputs": [
    {
     "data": {
      "text/html": [
       "<table style=\"white-space: nowrap; background: white; color: black;\">\n",
       "<caption><center><font color=\"black\"><b>data.2</b></font></center></caption>\n",
       " <thead>\n",
       "  <tr>\n",
       "   <th style=\"text-align:right;color: black !important;background-color: #FFFFFF !important;\"> date </th>\n",
       "   <th style=\"text-align:right;color: black !important;background-color: #FFFFFF !important;\"> revenue </th>\n",
       "   <th style=\"text-align:right;color: black !important;background-color: #FFFFFF !important;\"> team </th>\n",
       "  </tr>\n",
       " </thead>\n",
       "<tbody>\n",
       "  <tr>\n",
       "   <td style=\"text-align:right;\"> 2017-12-30 </td>\n",
       "   <td style=\"text-align:right;\"> 1000 </td>\n",
       "   <td style=\"text-align:right;\"> A </td>\n",
       "  </tr>\n",
       "  <tr>\n",
       "   <td style=\"text-align:right;\"> 2017-12-30 </td>\n",
       "   <td style=\"text-align:right;\"> 1010 </td>\n",
       "   <td style=\"text-align:right;\"> B </td>\n",
       "  </tr>\n",
       "  <tr>\n",
       "   <td style=\"text-align:right;\"> 2017-12-31 </td>\n",
       "   <td style=\"text-align:right;\"> 1200 </td>\n",
       "   <td style=\"text-align:right;\"> A </td>\n",
       "  </tr>\n",
       "  <tr>\n",
       "   <td style=\"text-align:right;\"> 2017-12-31 </td>\n",
       "   <td style=\"text-align:right;\"> 1150 </td>\n",
       "   <td style=\"text-align:right;\"> B </td>\n",
       "  </tr>\n",
       "  <tr>\n",
       "   <td style=\"text-align:right;\"> 2018-01-01 </td>\n",
       "   <td style=\"text-align:right;\"> 805 </td>\n",
       "   <td style=\"text-align:right;\"> A </td>\n",
       "  </tr>\n",
       "  <tr>\n",
       "   <td style=\"text-align:right;\"> 2018-01-01 </td>\n",
       "   <td style=\"text-align:right;\"> 806 </td>\n",
       "   <td style=\"text-align:right;\"> B </td>\n",
       "  </tr>\n",
       "  <tr>\n",
       "   <td style=\"text-align:right;\"> 2018-01-02 </td>\n",
       "   <td style=\"text-align:right;\"> 790 </td>\n",
       "   <td style=\"text-align:right;\"> A </td>\n",
       "  </tr>\n",
       "  <tr>\n",
       "   <td style=\"text-align:right;\"> 2018-01-02 </td>\n",
       "   <td style=\"text-align:right;\"> 795 </td>\n",
       "   <td style=\"text-align:right;\"> B </td>\n",
       "  </tr>\n",
       "  <tr>\n",
       "   <td style=\"text-align:right;\"> 2018-01-03 </td>\n",
       "   <td style=\"text-align:right;\"> 800 </td>\n",
       "   <td style=\"text-align:right;\"> A </td>\n",
       "  </tr>\n",
       "  <tr>\n",
       "   <td style=\"text-align:right;\"> 2018-01-03 </td>\n",
       "   <td style=\"text-align:right;\"> 810 </td>\n",
       "   <td style=\"text-align:right;\"> B </td>\n",
       "  </tr>\n",
       "  <tr>\n",
       "   <td style=\"text-align:right;\"> 2018-01-04 </td>\n",
       "   <td style=\"text-align:right;\"> 803 </td>\n",
       "   <td style=\"text-align:right;\"> A </td>\n",
       "  </tr>\n",
       "  <tr>\n",
       "   <td style=\"text-align:right;\"> 2018-01-04 </td>\n",
       "   <td style=\"text-align:right;\"> 801 </td>\n",
       "   <td style=\"text-align:right;\"> B </td>\n",
       "  </tr>\n",
       "  <tr>\n",
       "   <td style=\"text-align:right;\"> 2018-01-05 </td>\n",
       "   <td style=\"text-align:right;\"> 800 </td>\n",
       "   <td style=\"text-align:right;\"> A </td>\n",
       "  </tr>\n",
       "  <tr>\n",
       "   <td style=\"text-align:right;\"> 2018-01-05 </td>\n",
       "   <td style=\"text-align:right;\"> 795 </td>\n",
       "   <td style=\"text-align:right;\"> B </td>\n",
       "  </tr>\n",
       "  <tr>\n",
       "   <td style=\"text-align:right;\"> 2018-01-06 </td>\n",
       "   <td style=\"text-align:right;\"> 1000 </td>\n",
       "   <td style=\"text-align:right;\"> A </td>\n",
       "  </tr>\n",
       "  <tr>\n",
       "   <td style=\"text-align:right;\"> 2018-01-06 </td>\n",
       "   <td style=\"text-align:right;\"> 1010 </td>\n",
       "   <td style=\"text-align:right;\"> B </td>\n",
       "  </tr>\n",
       "  <tr>\n",
       "   <td style=\"text-align:right;\"> 2018-01-07 </td>\n",
       "   <td style=\"text-align:right;\"> 1200 </td>\n",
       "   <td style=\"text-align:right;\"> A </td>\n",
       "  </tr>\n",
       "  <tr>\n",
       "   <td style=\"text-align:right;\"> 2018-01-07 </td>\n",
       "   <td style=\"text-align:right;\"> 1150 </td>\n",
       "   <td style=\"text-align:right;\"> B </td>\n",
       "  </tr>\n",
       "  <tr>\n",
       "   <td style=\"text-align:right;\"> 2018-01-08 </td>\n",
       "   <td style=\"text-align:right;\"> 815 </td>\n",
       "   <td style=\"text-align:right;\"> A </td>\n",
       "  </tr>\n",
       "  <tr>\n",
       "   <td style=\"text-align:right;\"> 2018-01-08 </td>\n",
       "   <td style=\"text-align:right;\"> 806 </td>\n",
       "   <td style=\"text-align:right;\"> B </td>\n",
       "  </tr>\n",
       "  <tr>\n",
       "   <td style=\"text-align:right;\"> 2018-01-09 </td>\n",
       "   <td style=\"text-align:right;\"> 800 </td>\n",
       "   <td style=\"text-align:right;\"> A </td>\n",
       "  </tr>\n",
       "  <tr>\n",
       "   <td style=\"text-align:right;\"> 2018-01-09 </td>\n",
       "   <td style=\"text-align:right;\"> 791 </td>\n",
       "   <td style=\"text-align:right;\"> B </td>\n",
       "  </tr>\n",
       "  <tr>\n",
       "   <td style=\"text-align:right;\"> 2018-01-10 </td>\n",
       "   <td style=\"text-align:right;\"> 802 </td>\n",
       "   <td style=\"text-align:right;\"> A </td>\n",
       "  </tr>\n",
       "  <tr>\n",
       "   <td style=\"text-align:right;color: black !important;background-color: #FFFFFF !important;\"> 2018-01-10 </td>\n",
       "   <td style=\"text-align:right;color: black !important;background-color: #FFFFFF !important;\"> 815 </td>\n",
       "   <td style=\"text-align:right;color: black !important;background-color: #FFFFFF !important;\"> B </td>\n",
       "  </tr>\n",
       "</tbody>\n",
       "</table>"
      ]
     },
     "metadata": {},
     "output_type": "display_data"
    }
   ],
   "source": [
    "data.2 = data.frame(date=ymd(\"2017-12-30\",\"2017-12-30\",\"2017-12-31\",\"2017-12-31\",\"2018-01-01\",\"2018-01-01\",\"2018-01-02\",\"2018-01-02\",\n",
    "                             \"2018-01-03\",\"2018-01-03\",\"2018-01-04\",\"2018-01-04\",\"2018-01-05\",\"2018-01-05\",\"2018-01-06\",\"2018-01-06\",\n",
    "                             \"2018-01-07\",\"2018-01-07\",\"2018-01-08\",\"2018-01-08\",\"2018-01-09\",\"2018-01-09\",\"2018-01-10\",\"2018-01-10\"),\n",
    "                     revenue=c(1000, 1010, 1200, 1150, 805, 806, 790, 795, 800, 810, 803, 801, 800, 795,\n",
    "                               1000, 1010, 1200, 1150, 815, 806, 800, 791, 802, 815),\n",
    "                     team=c(\"A\",\"B\"))\n",
    "fmt(data.2)"
   ]
  },
  {
   "cell_type": "markdown",
   "metadata": {},
   "source": [
    "## Exercise 1\n",
    "\n",
    "For the data.1 table, add synthetic variables for day of the week (categorical) and weekend (TRUE/FALSE).  Arrange the table's variables such that the synthetic variables appear second and third.  Show the revised table.\n",
    "\n",
    "You might want to use these function(s):\n",
    "\n",
    "* weekdays()\n",
    "\n",
    "To syntheszie the day of week variable, apply weekdays().\n",
    "To synthesize the weekend variable, specify a criterion that involves the new day of week variable."
   ]
  },
  {
   "cell_type": "code",
   "execution_count": 134,
   "metadata": {
    "hide_input": false,
    "vscode": {
     "languageId": "r"
    }
   },
   "outputs": [
    {
     "data": {
      "text/html": [
       "<table class=\"dataframe\">\n",
       "<caption>A data.frame: 12 × 6</caption>\n",
       "<thead>\n",
       "\t<tr><th scope=col>date</th><th scope=col>dow</th><th scope=col>weekend</th><th scope=col>x1</th><th scope=col>x2</th><th scope=col>x3</th></tr>\n",
       "\t<tr><th scope=col>&lt;date&gt;</th><th scope=col>&lt;chr&gt;</th><th scope=col>&lt;lgl&gt;</th><th scope=col>&lt;dbl&gt;</th><th scope=col>&lt;dbl&gt;</th><th scope=col>&lt;dbl&gt;</th></tr>\n",
       "</thead>\n",
       "<tbody>\n",
       "\t<tr><td>2017-12-30</td><td>Saturday </td><td> TRUE</td><td> 2.5</td><td> 9.0</td><td> 9.0</td></tr>\n",
       "\t<tr><td>2017-12-31</td><td>Sunday   </td><td> TRUE</td><td> 2.0</td><td>  NA</td><td>10.0</td></tr>\n",
       "\t<tr><td>2018-01-01</td><td>Monday   </td><td>FALSE</td><td> 9.0</td><td>  NA</td><td> 1.0</td></tr>\n",
       "\t<tr><td>2018-01-02</td><td>Tuesday  </td><td>FALSE</td><td> 6.5</td><td>  NA</td><td> 2.0</td></tr>\n",
       "\t<tr><td>2018-01-03</td><td>Wednesday</td><td>FALSE</td><td> 8.0</td><td> 2.5</td><td> 1.5</td></tr>\n",
       "\t<tr><td>2018-01-04</td><td>Thursday </td><td>FALSE</td><td> 4.0</td><td> 8.5</td><td>10.5</td></tr>\n",
       "\t<tr><td>2018-01-05</td><td>Friday   </td><td>FALSE</td><td> 4.0</td><td> 4.0</td><td> 4.0</td></tr>\n",
       "\t<tr><td>2018-01-06</td><td>Saturday </td><td> TRUE</td><td>10.5</td><td> 7.5</td><td>11.0</td></tr>\n",
       "\t<tr><td>2018-01-07</td><td>Sunday   </td><td> TRUE</td><td> 3.0</td><td> 3.0</td><td> 3.0</td></tr>\n",
       "\t<tr><td>2018-01-08</td><td>Monday   </td><td>FALSE</td><td>23.0</td><td>23.0</td><td>23.0</td></tr>\n",
       "\t<tr><td>2018-01-09</td><td>Tuesday  </td><td>FALSE</td><td>12.0</td><td>12.0</td><td>12.0</td></tr>\n",
       "\t<tr><td>2018-01-10</td><td>Wednesday</td><td>FALSE</td><td>20.0</td><td>20.0</td><td>20.0</td></tr>\n",
       "</tbody>\n",
       "</table>\n"
      ],
      "text/latex": [
       "A data.frame: 12 × 6\n",
       "\\begin{tabular}{llllll}\n",
       " date & dow & weekend & x1 & x2 & x3\\\\\n",
       " <date> & <chr> & <lgl> & <dbl> & <dbl> & <dbl>\\\\\n",
       "\\hline\n",
       "\t 2017-12-30 & Saturday  &  TRUE &  2.5 &  9.0 &  9.0\\\\\n",
       "\t 2017-12-31 & Sunday    &  TRUE &  2.0 &   NA & 10.0\\\\\n",
       "\t 2018-01-01 & Monday    & FALSE &  9.0 &   NA &  1.0\\\\\n",
       "\t 2018-01-02 & Tuesday   & FALSE &  6.5 &   NA &  2.0\\\\\n",
       "\t 2018-01-03 & Wednesday & FALSE &  8.0 &  2.5 &  1.5\\\\\n",
       "\t 2018-01-04 & Thursday  & FALSE &  4.0 &  8.5 & 10.5\\\\\n",
       "\t 2018-01-05 & Friday    & FALSE &  4.0 &  4.0 &  4.0\\\\\n",
       "\t 2018-01-06 & Saturday  &  TRUE & 10.5 &  7.5 & 11.0\\\\\n",
       "\t 2018-01-07 & Sunday    &  TRUE &  3.0 &  3.0 &  3.0\\\\\n",
       "\t 2018-01-08 & Monday    & FALSE & 23.0 & 23.0 & 23.0\\\\\n",
       "\t 2018-01-09 & Tuesday   & FALSE & 12.0 & 12.0 & 12.0\\\\\n",
       "\t 2018-01-10 & Wednesday & FALSE & 20.0 & 20.0 & 20.0\\\\\n",
       "\\end{tabular}\n"
      ],
      "text/markdown": [
       "\n",
       "A data.frame: 12 × 6\n",
       "\n",
       "| date &lt;date&gt; | dow &lt;chr&gt; | weekend &lt;lgl&gt; | x1 &lt;dbl&gt; | x2 &lt;dbl&gt; | x3 &lt;dbl&gt; |\n",
       "|---|---|---|---|---|---|\n",
       "| 2017-12-30 | Saturday  |  TRUE |  2.5 |  9.0 |  9.0 |\n",
       "| 2017-12-31 | Sunday    |  TRUE |  2.0 |   NA | 10.0 |\n",
       "| 2018-01-01 | Monday    | FALSE |  9.0 |   NA |  1.0 |\n",
       "| 2018-01-02 | Tuesday   | FALSE |  6.5 |   NA |  2.0 |\n",
       "| 2018-01-03 | Wednesday | FALSE |  8.0 |  2.5 |  1.5 |\n",
       "| 2018-01-04 | Thursday  | FALSE |  4.0 |  8.5 | 10.5 |\n",
       "| 2018-01-05 | Friday    | FALSE |  4.0 |  4.0 |  4.0 |\n",
       "| 2018-01-06 | Saturday  |  TRUE | 10.5 |  7.5 | 11.0 |\n",
       "| 2018-01-07 | Sunday    |  TRUE |  3.0 |  3.0 |  3.0 |\n",
       "| 2018-01-08 | Monday    | FALSE | 23.0 | 23.0 | 23.0 |\n",
       "| 2018-01-09 | Tuesday   | FALSE | 12.0 | 12.0 | 12.0 |\n",
       "| 2018-01-10 | Wednesday | FALSE | 20.0 | 20.0 | 20.0 |\n",
       "\n"
      ],
      "text/plain": [
       "   date       dow       weekend x1   x2   x3  \n",
       "1  2017-12-30 Saturday   TRUE    2.5  9.0  9.0\n",
       "2  2017-12-31 Sunday     TRUE    2.0   NA 10.0\n",
       "3  2018-01-01 Monday    FALSE    9.0   NA  1.0\n",
       "4  2018-01-02 Tuesday   FALSE    6.5   NA  2.0\n",
       "5  2018-01-03 Wednesday FALSE    8.0  2.5  1.5\n",
       "6  2018-01-04 Thursday  FALSE    4.0  8.5 10.5\n",
       "7  2018-01-05 Friday    FALSE    4.0  4.0  4.0\n",
       "8  2018-01-06 Saturday   TRUE   10.5  7.5 11.0\n",
       "9  2018-01-07 Sunday     TRUE    3.0  3.0  3.0\n",
       "10 2018-01-08 Monday    FALSE   23.0 23.0 23.0\n",
       "11 2018-01-09 Tuesday   FALSE   12.0 12.0 12.0\n",
       "12 2018-01-10 Wednesday FALSE   20.0 20.0 20.0"
      ]
     },
     "metadata": {},
     "output_type": "display_data"
    }
   ],
   "source": [
    "dow = weekdays(data.1$date)\n",
    "weekend = (dow == \"Saturday\" | dow == \"Sunday\")\n",
    "new_data.1 = cbind(data.1[1], dow, weekend, data.1[,2:ncol(data.1)])\n",
    "new_data.1\n"
   ]
  },
  {
   "cell_type": "markdown",
   "metadata": {},
   "source": [
    "## Exercise 2\n",
    "\n",
    "Next, for the data.1 table, impute the missing values by linear interpolation.  Use index-based selection to specify the observations needed for your calculations.  Show the revised table."
   ]
  },
  {
   "cell_type": "code",
   "execution_count": 135,
   "metadata": {
    "vscode": {
     "languageId": "r"
    }
   },
   "outputs": [
    {
     "data": {
      "text/html": [
       "<table class=\"dataframe\">\n",
       "<caption>A data.frame: 12 × 6</caption>\n",
       "<thead>\n",
       "\t<tr><th scope=col>date</th><th scope=col>dow</th><th scope=col>weekend</th><th scope=col>x1</th><th scope=col>x2</th><th scope=col>x3</th></tr>\n",
       "\t<tr><th scope=col>&lt;date&gt;</th><th scope=col>&lt;chr&gt;</th><th scope=col>&lt;lgl&gt;</th><th scope=col>&lt;dbl&gt;</th><th scope=col>&lt;dbl&gt;</th><th scope=col>&lt;dbl&gt;</th></tr>\n",
       "</thead>\n",
       "<tbody>\n",
       "\t<tr><td>2017-12-30</td><td>Saturday </td><td> TRUE</td><td> 2.5</td><td> 9.000</td><td> 9.0</td></tr>\n",
       "\t<tr><td>2017-12-31</td><td>Sunday   </td><td> TRUE</td><td> 2.0</td><td> 7.375</td><td>10.0</td></tr>\n",
       "\t<tr><td>2018-01-01</td><td>Monday   </td><td>FALSE</td><td> 9.0</td><td> 5.750</td><td> 1.0</td></tr>\n",
       "\t<tr><td>2018-01-02</td><td>Tuesday  </td><td>FALSE</td><td> 6.5</td><td> 4.125</td><td> 2.0</td></tr>\n",
       "\t<tr><td>2018-01-03</td><td>Wednesday</td><td>FALSE</td><td> 8.0</td><td> 2.500</td><td> 1.5</td></tr>\n",
       "\t<tr><td>2018-01-04</td><td>Thursday </td><td>FALSE</td><td> 4.0</td><td> 8.500</td><td>10.5</td></tr>\n",
       "\t<tr><td>2018-01-05</td><td>Friday   </td><td>FALSE</td><td> 4.0</td><td> 4.000</td><td> 4.0</td></tr>\n",
       "\t<tr><td>2018-01-06</td><td>Saturday </td><td> TRUE</td><td>10.5</td><td> 7.500</td><td>11.0</td></tr>\n",
       "\t<tr><td>2018-01-07</td><td>Sunday   </td><td> TRUE</td><td> 3.0</td><td> 3.000</td><td> 3.0</td></tr>\n",
       "\t<tr><td>2018-01-08</td><td>Monday   </td><td>FALSE</td><td>23.0</td><td>23.000</td><td>23.0</td></tr>\n",
       "\t<tr><td>2018-01-09</td><td>Tuesday  </td><td>FALSE</td><td>12.0</td><td>12.000</td><td>12.0</td></tr>\n",
       "\t<tr><td>2018-01-10</td><td>Wednesday</td><td>FALSE</td><td>20.0</td><td>20.000</td><td>20.0</td></tr>\n",
       "</tbody>\n",
       "</table>\n"
      ],
      "text/latex": [
       "A data.frame: 12 × 6\n",
       "\\begin{tabular}{llllll}\n",
       " date & dow & weekend & x1 & x2 & x3\\\\\n",
       " <date> & <chr> & <lgl> & <dbl> & <dbl> & <dbl>\\\\\n",
       "\\hline\n",
       "\t 2017-12-30 & Saturday  &  TRUE &  2.5 &  9.000 &  9.0\\\\\n",
       "\t 2017-12-31 & Sunday    &  TRUE &  2.0 &  7.375 & 10.0\\\\\n",
       "\t 2018-01-01 & Monday    & FALSE &  9.0 &  5.750 &  1.0\\\\\n",
       "\t 2018-01-02 & Tuesday   & FALSE &  6.5 &  4.125 &  2.0\\\\\n",
       "\t 2018-01-03 & Wednesday & FALSE &  8.0 &  2.500 &  1.5\\\\\n",
       "\t 2018-01-04 & Thursday  & FALSE &  4.0 &  8.500 & 10.5\\\\\n",
       "\t 2018-01-05 & Friday    & FALSE &  4.0 &  4.000 &  4.0\\\\\n",
       "\t 2018-01-06 & Saturday  &  TRUE & 10.5 &  7.500 & 11.0\\\\\n",
       "\t 2018-01-07 & Sunday    &  TRUE &  3.0 &  3.000 &  3.0\\\\\n",
       "\t 2018-01-08 & Monday    & FALSE & 23.0 & 23.000 & 23.0\\\\\n",
       "\t 2018-01-09 & Tuesday   & FALSE & 12.0 & 12.000 & 12.0\\\\\n",
       "\t 2018-01-10 & Wednesday & FALSE & 20.0 & 20.000 & 20.0\\\\\n",
       "\\end{tabular}\n"
      ],
      "text/markdown": [
       "\n",
       "A data.frame: 12 × 6\n",
       "\n",
       "| date &lt;date&gt; | dow &lt;chr&gt; | weekend &lt;lgl&gt; | x1 &lt;dbl&gt; | x2 &lt;dbl&gt; | x3 &lt;dbl&gt; |\n",
       "|---|---|---|---|---|---|\n",
       "| 2017-12-30 | Saturday  |  TRUE |  2.5 |  9.000 |  9.0 |\n",
       "| 2017-12-31 | Sunday    |  TRUE |  2.0 |  7.375 | 10.0 |\n",
       "| 2018-01-01 | Monday    | FALSE |  9.0 |  5.750 |  1.0 |\n",
       "| 2018-01-02 | Tuesday   | FALSE |  6.5 |  4.125 |  2.0 |\n",
       "| 2018-01-03 | Wednesday | FALSE |  8.0 |  2.500 |  1.5 |\n",
       "| 2018-01-04 | Thursday  | FALSE |  4.0 |  8.500 | 10.5 |\n",
       "| 2018-01-05 | Friday    | FALSE |  4.0 |  4.000 |  4.0 |\n",
       "| 2018-01-06 | Saturday  |  TRUE | 10.5 |  7.500 | 11.0 |\n",
       "| 2018-01-07 | Sunday    |  TRUE |  3.0 |  3.000 |  3.0 |\n",
       "| 2018-01-08 | Monday    | FALSE | 23.0 | 23.000 | 23.0 |\n",
       "| 2018-01-09 | Tuesday   | FALSE | 12.0 | 12.000 | 12.0 |\n",
       "| 2018-01-10 | Wednesday | FALSE | 20.0 | 20.000 | 20.0 |\n",
       "\n"
      ],
      "text/plain": [
       "   date       dow       weekend x1   x2     x3  \n",
       "1  2017-12-30 Saturday   TRUE    2.5  9.000  9.0\n",
       "2  2017-12-31 Sunday     TRUE    2.0  7.375 10.0\n",
       "3  2018-01-01 Monday    FALSE    9.0  5.750  1.0\n",
       "4  2018-01-02 Tuesday   FALSE    6.5  4.125  2.0\n",
       "5  2018-01-03 Wednesday FALSE    8.0  2.500  1.5\n",
       "6  2018-01-04 Thursday  FALSE    4.0  8.500 10.5\n",
       "7  2018-01-05 Friday    FALSE    4.0  4.000  4.0\n",
       "8  2018-01-06 Saturday   TRUE   10.5  7.500 11.0\n",
       "9  2018-01-07 Sunday     TRUE    3.0  3.000  3.0\n",
       "10 2018-01-08 Monday    FALSE   23.0 23.000 23.0\n",
       "11 2018-01-09 Tuesday   FALSE   12.0 12.000 12.0\n",
       "12 2018-01-10 Wednesday FALSE   20.0 20.000 20.0"
      ]
     },
     "metadata": {},
     "output_type": "display_data"
    }
   ],
   "source": [
    "gap = data.1$x2[5] - data.1$x2[1]\n",
    "step_size = gap / 4\n",
    "imputed_value.1 = data.1$x2[1] + step_size\n",
    "imputed_value.2 = data.1$x2[1] + 2*step_size\n",
    "imputed_value.3 = data.1$x2[1] + 3*step_size\n",
    "\n",
    "new_data.1$x2[2] = imputed_value.1\n",
    "new_data.1$x2[3] = imputed_value.2\n",
    "new_data.1$x2[4] = imputed_value.3\n",
    "\n",
    "new_data.1"
   ]
  },
  {
   "cell_type": "markdown",
   "metadata": {},
   "source": [
    "## Exercise 3\n",
    "\n",
    "Next, align the 2 datasets by contraction.  Each resulting observation should reflect the sum of revenues for the day.  Show the revised table."
   ]
  },
  {
   "cell_type": "code",
   "execution_count": 136,
   "metadata": {
    "vscode": {
     "languageId": "r"
    }
   },
   "outputs": [
    {
     "data": {
      "text/html": [
       "<table class=\"dataframe\">\n",
       "<caption>A data.frame: 12 × 7</caption>\n",
       "<thead>\n",
       "\t<tr><th scope=col>date</th><th scope=col>dow</th><th scope=col>weekend</th><th scope=col>x1</th><th scope=col>x2</th><th scope=col>x3</th><th scope=col>revenue</th></tr>\n",
       "\t<tr><th scope=col>&lt;date&gt;</th><th scope=col>&lt;chr&gt;</th><th scope=col>&lt;lgl&gt;</th><th scope=col>&lt;dbl&gt;</th><th scope=col>&lt;dbl&gt;</th><th scope=col>&lt;dbl&gt;</th><th scope=col>&lt;dbl&gt;</th></tr>\n",
       "</thead>\n",
       "<tbody>\n",
       "\t<tr><td>2017-12-30</td><td>Saturday </td><td> TRUE</td><td> 2.5</td><td> 9.000</td><td> 9.0</td><td>2010</td></tr>\n",
       "\t<tr><td>2017-12-31</td><td>Sunday   </td><td> TRUE</td><td> 2.0</td><td> 7.375</td><td>10.0</td><td>2350</td></tr>\n",
       "\t<tr><td>2018-01-01</td><td>Monday   </td><td>FALSE</td><td> 9.0</td><td> 5.750</td><td> 1.0</td><td>1611</td></tr>\n",
       "\t<tr><td>2018-01-02</td><td>Tuesday  </td><td>FALSE</td><td> 6.5</td><td> 4.125</td><td> 2.0</td><td>1585</td></tr>\n",
       "\t<tr><td>2018-01-03</td><td>Wednesday</td><td>FALSE</td><td> 8.0</td><td> 2.500</td><td> 1.5</td><td>1610</td></tr>\n",
       "\t<tr><td>2018-01-04</td><td>Thursday </td><td>FALSE</td><td> 4.0</td><td> 8.500</td><td>10.5</td><td>1604</td></tr>\n",
       "\t<tr><td>2018-01-05</td><td>Friday   </td><td>FALSE</td><td> 4.0</td><td> 4.000</td><td> 4.0</td><td>1595</td></tr>\n",
       "\t<tr><td>2018-01-06</td><td>Saturday </td><td> TRUE</td><td>10.5</td><td> 7.500</td><td>11.0</td><td>2010</td></tr>\n",
       "\t<tr><td>2018-01-07</td><td>Sunday   </td><td> TRUE</td><td> 3.0</td><td> 3.000</td><td> 3.0</td><td>2350</td></tr>\n",
       "\t<tr><td>2018-01-08</td><td>Monday   </td><td>FALSE</td><td>23.0</td><td>23.000</td><td>23.0</td><td>1621</td></tr>\n",
       "\t<tr><td>2018-01-09</td><td>Tuesday  </td><td>FALSE</td><td>12.0</td><td>12.000</td><td>12.0</td><td>1591</td></tr>\n",
       "\t<tr><td>2018-01-10</td><td>Wednesday</td><td>FALSE</td><td>20.0</td><td>20.000</td><td>20.0</td><td>1617</td></tr>\n",
       "</tbody>\n",
       "</table>\n"
      ],
      "text/latex": [
       "A data.frame: 12 × 7\n",
       "\\begin{tabular}{lllllll}\n",
       " date & dow & weekend & x1 & x2 & x3 & revenue\\\\\n",
       " <date> & <chr> & <lgl> & <dbl> & <dbl> & <dbl> & <dbl>\\\\\n",
       "\\hline\n",
       "\t 2017-12-30 & Saturday  &  TRUE &  2.5 &  9.000 &  9.0 & 2010\\\\\n",
       "\t 2017-12-31 & Sunday    &  TRUE &  2.0 &  7.375 & 10.0 & 2350\\\\\n",
       "\t 2018-01-01 & Monday    & FALSE &  9.0 &  5.750 &  1.0 & 1611\\\\\n",
       "\t 2018-01-02 & Tuesday   & FALSE &  6.5 &  4.125 &  2.0 & 1585\\\\\n",
       "\t 2018-01-03 & Wednesday & FALSE &  8.0 &  2.500 &  1.5 & 1610\\\\\n",
       "\t 2018-01-04 & Thursday  & FALSE &  4.0 &  8.500 & 10.5 & 1604\\\\\n",
       "\t 2018-01-05 & Friday    & FALSE &  4.0 &  4.000 &  4.0 & 1595\\\\\n",
       "\t 2018-01-06 & Saturday  &  TRUE & 10.5 &  7.500 & 11.0 & 2010\\\\\n",
       "\t 2018-01-07 & Sunday    &  TRUE &  3.0 &  3.000 &  3.0 & 2350\\\\\n",
       "\t 2018-01-08 & Monday    & FALSE & 23.0 & 23.000 & 23.0 & 1621\\\\\n",
       "\t 2018-01-09 & Tuesday   & FALSE & 12.0 & 12.000 & 12.0 & 1591\\\\\n",
       "\t 2018-01-10 & Wednesday & FALSE & 20.0 & 20.000 & 20.0 & 1617\\\\\n",
       "\\end{tabular}\n"
      ],
      "text/markdown": [
       "\n",
       "A data.frame: 12 × 7\n",
       "\n",
       "| date &lt;date&gt; | dow &lt;chr&gt; | weekend &lt;lgl&gt; | x1 &lt;dbl&gt; | x2 &lt;dbl&gt; | x3 &lt;dbl&gt; | revenue &lt;dbl&gt; |\n",
       "|---|---|---|---|---|---|---|\n",
       "| 2017-12-30 | Saturday  |  TRUE |  2.5 |  9.000 |  9.0 | 2010 |\n",
       "| 2017-12-31 | Sunday    |  TRUE |  2.0 |  7.375 | 10.0 | 2350 |\n",
       "| 2018-01-01 | Monday    | FALSE |  9.0 |  5.750 |  1.0 | 1611 |\n",
       "| 2018-01-02 | Tuesday   | FALSE |  6.5 |  4.125 |  2.0 | 1585 |\n",
       "| 2018-01-03 | Wednesday | FALSE |  8.0 |  2.500 |  1.5 | 1610 |\n",
       "| 2018-01-04 | Thursday  | FALSE |  4.0 |  8.500 | 10.5 | 1604 |\n",
       "| 2018-01-05 | Friday    | FALSE |  4.0 |  4.000 |  4.0 | 1595 |\n",
       "| 2018-01-06 | Saturday  |  TRUE | 10.5 |  7.500 | 11.0 | 2010 |\n",
       "| 2018-01-07 | Sunday    |  TRUE |  3.0 |  3.000 |  3.0 | 2350 |\n",
       "| 2018-01-08 | Monday    | FALSE | 23.0 | 23.000 | 23.0 | 1621 |\n",
       "| 2018-01-09 | Tuesday   | FALSE | 12.0 | 12.000 | 12.0 | 1591 |\n",
       "| 2018-01-10 | Wednesday | FALSE | 20.0 | 20.000 | 20.0 | 1617 |\n",
       "\n"
      ],
      "text/plain": [
       "   date       dow       weekend x1   x2     x3   revenue\n",
       "1  2017-12-30 Saturday   TRUE    2.5  9.000  9.0 2010   \n",
       "2  2017-12-31 Sunday     TRUE    2.0  7.375 10.0 2350   \n",
       "3  2018-01-01 Monday    FALSE    9.0  5.750  1.0 1611   \n",
       "4  2018-01-02 Tuesday   FALSE    6.5  4.125  2.0 1585   \n",
       "5  2018-01-03 Wednesday FALSE    8.0  2.500  1.5 1610   \n",
       "6  2018-01-04 Thursday  FALSE    4.0  8.500 10.5 1604   \n",
       "7  2018-01-05 Friday    FALSE    4.0  4.000  4.0 1595   \n",
       "8  2018-01-06 Saturday   TRUE   10.5  7.500 11.0 2010   \n",
       "9  2018-01-07 Sunday     TRUE    3.0  3.000  3.0 2350   \n",
       "10 2018-01-08 Monday    FALSE   23.0 23.000 23.0 1621   \n",
       "11 2018-01-09 Tuesday   FALSE   12.0 12.000 12.0 1591   \n",
       "12 2018-01-10 Wednesday FALSE   20.0 20.000 20.0 1617   "
      ]
     },
     "metadata": {},
     "output_type": "display_data"
    }
   ],
   "source": [
    "temp_data.2 = data.2\n",
    "temp_data.2$step = rep(1:nrow(data.1), 2) %>% sort()\n",
    "\n",
    "temp_data.2.aggregated = aggregate(revenue ~ step, temp_data.2, sum)\n",
    "data.12 = cbind(new_data.1, temp_data.2.aggregated[2])\n",
    "data.12\n",
    " "
   ]
  },
  {
   "cell_type": "markdown",
   "metadata": {},
   "source": [
    "## Exercise 4\n",
    "\n",
    "Next, balance the aligned data by bootstrapping to make an equal number of weekend and non-weekend observations (set randomization seed to zero).  Sort by date.  Show the resulting table.\n",
    "\n",
    "You might want to use these function(s):\n",
    "\n",
    "* set.seed()\n",
    "* sample()\n",
    "* order()"
   ]
  },
  {
   "cell_type": "code",
   "execution_count": 152,
   "metadata": {
    "vscode": {
     "languageId": "r"
    }
   },
   "outputs": [
    {
     "data": {
      "text/html": [
       "<table class=\"dataframe\">\n",
       "<caption>A data.frame: 16 × 7</caption>\n",
       "<thead>\n",
       "\t<tr><th></th><th scope=col>date</th><th scope=col>dow</th><th scope=col>weekend</th><th scope=col>x1</th><th scope=col>x2</th><th scope=col>x3</th><th scope=col>revenue</th></tr>\n",
       "\t<tr><th></th><th scope=col>&lt;date&gt;</th><th scope=col>&lt;chr&gt;</th><th scope=col>&lt;lgl&gt;</th><th scope=col>&lt;dbl&gt;</th><th scope=col>&lt;dbl&gt;</th><th scope=col>&lt;dbl&gt;</th><th scope=col>&lt;dbl&gt;</th></tr>\n",
       "</thead>\n",
       "<tbody>\n",
       "\t<tr><th scope=row>1</th><td>2017-12-30</td><td>Saturday </td><td> TRUE</td><td> 2.5</td><td> 9.000</td><td> 9.0</td><td>2010</td></tr>\n",
       "\t<tr><th scope=row>1.1</th><td>2017-12-30</td><td>Saturday </td><td> TRUE</td><td> 2.5</td><td> 9.000</td><td> 9.0</td><td>2010</td></tr>\n",
       "\t<tr><th scope=row>2</th><td>2017-12-31</td><td>Sunday   </td><td> TRUE</td><td> 2.0</td><td> 7.375</td><td>10.0</td><td>2350</td></tr>\n",
       "\t<tr><th scope=row>2.1</th><td>2017-12-31</td><td>Sunday   </td><td> TRUE</td><td> 2.0</td><td> 7.375</td><td>10.0</td><td>2350</td></tr>\n",
       "\t<tr><th scope=row>3</th><td>2018-01-01</td><td>Monday   </td><td>FALSE</td><td> 9.0</td><td> 5.750</td><td> 1.0</td><td>1611</td></tr>\n",
       "\t<tr><th scope=row>4</th><td>2018-01-02</td><td>Tuesday  </td><td>FALSE</td><td> 6.5</td><td> 4.125</td><td> 2.0</td><td>1585</td></tr>\n",
       "\t<tr><th scope=row>5</th><td>2018-01-03</td><td>Wednesday</td><td>FALSE</td><td> 8.0</td><td> 2.500</td><td> 1.5</td><td>1610</td></tr>\n",
       "\t<tr><th scope=row>6</th><td>2018-01-04</td><td>Thursday </td><td>FALSE</td><td> 4.0</td><td> 8.500</td><td>10.5</td><td>1604</td></tr>\n",
       "\t<tr><th scope=row>7</th><td>2018-01-05</td><td>Friday   </td><td>FALSE</td><td> 4.0</td><td> 4.000</td><td> 4.0</td><td>1595</td></tr>\n",
       "\t<tr><th scope=row>8</th><td>2018-01-06</td><td>Saturday </td><td> TRUE</td><td>10.5</td><td> 7.500</td><td>11.0</td><td>2010</td></tr>\n",
       "\t<tr><th scope=row>8.1</th><td>2018-01-06</td><td>Saturday </td><td> TRUE</td><td>10.5</td><td> 7.500</td><td>11.0</td><td>2010</td></tr>\n",
       "\t<tr><th scope=row>9</th><td>2018-01-07</td><td>Sunday   </td><td> TRUE</td><td> 3.0</td><td> 3.000</td><td> 3.0</td><td>2350</td></tr>\n",
       "\t<tr><th scope=row>9.1</th><td>2018-01-07</td><td>Sunday   </td><td> TRUE</td><td> 3.0</td><td> 3.000</td><td> 3.0</td><td>2350</td></tr>\n",
       "\t<tr><th scope=row>10</th><td>2018-01-08</td><td>Monday   </td><td>FALSE</td><td>23.0</td><td>23.000</td><td>23.0</td><td>1621</td></tr>\n",
       "\t<tr><th scope=row>11</th><td>2018-01-09</td><td>Tuesday  </td><td>FALSE</td><td>12.0</td><td>12.000</td><td>12.0</td><td>1591</td></tr>\n",
       "\t<tr><th scope=row>12</th><td>2018-01-10</td><td>Wednesday</td><td>FALSE</td><td>20.0</td><td>20.000</td><td>20.0</td><td>1617</td></tr>\n",
       "</tbody>\n",
       "</table>\n"
      ],
      "text/latex": [
       "A data.frame: 16 × 7\n",
       "\\begin{tabular}{r|lllllll}\n",
       "  & date & dow & weekend & x1 & x2 & x3 & revenue\\\\\n",
       "  & <date> & <chr> & <lgl> & <dbl> & <dbl> & <dbl> & <dbl>\\\\\n",
       "\\hline\n",
       "\t1 & 2017-12-30 & Saturday  &  TRUE &  2.5 &  9.000 &  9.0 & 2010\\\\\n",
       "\t1.1 & 2017-12-30 & Saturday  &  TRUE &  2.5 &  9.000 &  9.0 & 2010\\\\\n",
       "\t2 & 2017-12-31 & Sunday    &  TRUE &  2.0 &  7.375 & 10.0 & 2350\\\\\n",
       "\t2.1 & 2017-12-31 & Sunday    &  TRUE &  2.0 &  7.375 & 10.0 & 2350\\\\\n",
       "\t3 & 2018-01-01 & Monday    & FALSE &  9.0 &  5.750 &  1.0 & 1611\\\\\n",
       "\t4 & 2018-01-02 & Tuesday   & FALSE &  6.5 &  4.125 &  2.0 & 1585\\\\\n",
       "\t5 & 2018-01-03 & Wednesday & FALSE &  8.0 &  2.500 &  1.5 & 1610\\\\\n",
       "\t6 & 2018-01-04 & Thursday  & FALSE &  4.0 &  8.500 & 10.5 & 1604\\\\\n",
       "\t7 & 2018-01-05 & Friday    & FALSE &  4.0 &  4.000 &  4.0 & 1595\\\\\n",
       "\t8 & 2018-01-06 & Saturday  &  TRUE & 10.5 &  7.500 & 11.0 & 2010\\\\\n",
       "\t8.1 & 2018-01-06 & Saturday  &  TRUE & 10.5 &  7.500 & 11.0 & 2010\\\\\n",
       "\t9 & 2018-01-07 & Sunday    &  TRUE &  3.0 &  3.000 &  3.0 & 2350\\\\\n",
       "\t9.1 & 2018-01-07 & Sunday    &  TRUE &  3.0 &  3.000 &  3.0 & 2350\\\\\n",
       "\t10 & 2018-01-08 & Monday    & FALSE & 23.0 & 23.000 & 23.0 & 1621\\\\\n",
       "\t11 & 2018-01-09 & Tuesday   & FALSE & 12.0 & 12.000 & 12.0 & 1591\\\\\n",
       "\t12 & 2018-01-10 & Wednesday & FALSE & 20.0 & 20.000 & 20.0 & 1617\\\\\n",
       "\\end{tabular}\n"
      ],
      "text/markdown": [
       "\n",
       "A data.frame: 16 × 7\n",
       "\n",
       "| <!--/--> | date &lt;date&gt; | dow &lt;chr&gt; | weekend &lt;lgl&gt; | x1 &lt;dbl&gt; | x2 &lt;dbl&gt; | x3 &lt;dbl&gt; | revenue &lt;dbl&gt; |\n",
       "|---|---|---|---|---|---|---|---|\n",
       "| 1 | 2017-12-30 | Saturday  |  TRUE |  2.5 |  9.000 |  9.0 | 2010 |\n",
       "| 1.1 | 2017-12-30 | Saturday  |  TRUE |  2.5 |  9.000 |  9.0 | 2010 |\n",
       "| 2 | 2017-12-31 | Sunday    |  TRUE |  2.0 |  7.375 | 10.0 | 2350 |\n",
       "| 2.1 | 2017-12-31 | Sunday    |  TRUE |  2.0 |  7.375 | 10.0 | 2350 |\n",
       "| 3 | 2018-01-01 | Monday    | FALSE |  9.0 |  5.750 |  1.0 | 1611 |\n",
       "| 4 | 2018-01-02 | Tuesday   | FALSE |  6.5 |  4.125 |  2.0 | 1585 |\n",
       "| 5 | 2018-01-03 | Wednesday | FALSE |  8.0 |  2.500 |  1.5 | 1610 |\n",
       "| 6 | 2018-01-04 | Thursday  | FALSE |  4.0 |  8.500 | 10.5 | 1604 |\n",
       "| 7 | 2018-01-05 | Friday    | FALSE |  4.0 |  4.000 |  4.0 | 1595 |\n",
       "| 8 | 2018-01-06 | Saturday  |  TRUE | 10.5 |  7.500 | 11.0 | 2010 |\n",
       "| 8.1 | 2018-01-06 | Saturday  |  TRUE | 10.5 |  7.500 | 11.0 | 2010 |\n",
       "| 9 | 2018-01-07 | Sunday    |  TRUE |  3.0 |  3.000 |  3.0 | 2350 |\n",
       "| 9.1 | 2018-01-07 | Sunday    |  TRUE |  3.0 |  3.000 |  3.0 | 2350 |\n",
       "| 10 | 2018-01-08 | Monday    | FALSE | 23.0 | 23.000 | 23.0 | 1621 |\n",
       "| 11 | 2018-01-09 | Tuesday   | FALSE | 12.0 | 12.000 | 12.0 | 1591 |\n",
       "| 12 | 2018-01-10 | Wednesday | FALSE | 20.0 | 20.000 | 20.0 | 1617 |\n",
       "\n"
      ],
      "text/plain": [
       "    date       dow       weekend x1   x2     x3   revenue\n",
       "1   2017-12-30 Saturday   TRUE    2.5  9.000  9.0 2010   \n",
       "1.1 2017-12-30 Saturday   TRUE    2.5  9.000  9.0 2010   \n",
       "2   2017-12-31 Sunday     TRUE    2.0  7.375 10.0 2350   \n",
       "2.1 2017-12-31 Sunday     TRUE    2.0  7.375 10.0 2350   \n",
       "3   2018-01-01 Monday    FALSE    9.0  5.750  1.0 1611   \n",
       "4   2018-01-02 Tuesday   FALSE    6.5  4.125  2.0 1585   \n",
       "5   2018-01-03 Wednesday FALSE    8.0  2.500  1.5 1610   \n",
       "6   2018-01-04 Thursday  FALSE    4.0  8.500 10.5 1604   \n",
       "7   2018-01-05 Friday    FALSE    4.0  4.000  4.0 1595   \n",
       "8   2018-01-06 Saturday   TRUE   10.5  7.500 11.0 2010   \n",
       "8.1 2018-01-06 Saturday   TRUE   10.5  7.500 11.0 2010   \n",
       "9   2018-01-07 Sunday     TRUE    3.0  3.000  3.0 2350   \n",
       "9.1 2018-01-07 Sunday     TRUE    3.0  3.000  3.0 2350   \n",
       "10  2018-01-08 Monday    FALSE   23.0 23.000 23.0 1621   \n",
       "11  2018-01-09 Tuesday   FALSE   12.0 12.000 12.0 1591   \n",
       "12  2018-01-10 Wednesday FALSE   20.0 20.000 20.0 1617   "
      ]
     },
     "metadata": {},
     "output_type": "display_data"
    }
   ],
   "source": [
    "set.seed(0)\n",
    "\n",
    "sample.A = which(data.12$weekend==FALSE)\n",
    "sample.B = c(which(data.12$weekend==TRUE), sample(which(data.12$weekend==TRUE), replace=TRUE, 4))\n",
    "\n",
    "data.balanced = data.12[c(sample.A, sample.B), ]\n",
    "\n",
    "data.balanced[order(as.Date(data.balanced$date, format=\"%Y/%m/%d\")), ]\n"
   ]
  },
  {
   "cell_type": "markdown",
   "metadata": {},
   "source": [
    "<font size=1;>\n",
    "<p style=\"text-align: left;\">\n",
    "Copyright (c) Berkeley Data Analytics Group, LLC\n",
    "<span style=\"float: right;\">\n",
    "Document revised February 5, 2022\n",
    "</span>\n",
    "</p>\n",
    "</font>"
   ]
  }
 ],
 "metadata": {
  "hide_code_all_hidden": false,
  "hide_input": false,
  "kernelspec": {
   "display_name": "R 4.1.2",
   "language": "R",
   "name": "ir412"
  },
  "language_info": {
   "codemirror_mode": "r",
   "file_extension": ".r",
   "mimetype": "text/x-r-source",
   "name": "R",
   "pygments_lexer": "r",
   "version": "4.1.2"
  },
  "toc": {
   "base_numbering": 1,
   "nav_menu": {},
   "number_sections": false,
   "sideBar": true,
   "skip_h1_title": true,
   "title_cell": "Table of Contents",
   "title_sidebar": "Contents",
   "toc_cell": false,
   "toc_position": {
    "height": "calc(100% - 180px)",
    "left": "10px",
    "top": "150px",
    "width": "255.865px"
   },
   "toc_section_display": true,
   "toc_window_display": false
  }
 },
 "nbformat": 4,
 "nbformat_minor": 2
}
