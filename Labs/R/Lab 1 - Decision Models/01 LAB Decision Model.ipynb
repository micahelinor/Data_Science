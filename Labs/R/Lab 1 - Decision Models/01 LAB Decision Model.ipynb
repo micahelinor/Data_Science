{
 "cells": [
  {
   "cell_type": "markdown",
   "metadata": {
    "hideCode": false,
    "hidePrompt": false
   },
   "source": [
    "# Decision Model & Sensitivity Analysis"
   ]
  },
  {
   "cell_type": "markdown",
   "metadata": {
    "hide_input": true
   },
   "source": [
    "**Write and execute R code in the code cells per the instructions.  The expected results are provided for you directly following the code cells.**"
   ]
  },
  {
   "cell_type": "code",
   "execution_count": 1,
   "metadata": {
    "vscode": {
     "languageId": "r"
    }
   },
   "outputs": [],
   "source": [
    "f = \"setup.R\"; for (i in 1:10) { if (file.exists(f)) break else f = paste0(\"../\", f) }; source(f)"
   ]
  },
  {
   "cell_type": "markdown",
   "metadata": {},
   "source": [
    "## Decision Model\n",
    "\n",
    "Here is a decision model represented as an influence diagram.\n",
    "\n",
    "<img src=\"01 LAB decision-model_gold.jpg\" align=center width=600 />\n",
    "\n",
    "Decision performance metrics:\n",
    "* proportion of strikes purchased\n",
    "* proportion of duds purchased\n",
    "\n",
    "Business parameters:\n",
    "* number of sites available for purchase\n",
    "* probability of strike\n",
    "* profit per site from strikes\n",
    "* profit per site from duds\n",
    "\n",
    "Calculated values:\n",
    "* $\\textsf{profit} = \\textsf{profit from strikes} + \\textsf{profit from duds}$\n",
    "* $\\textsf{profit from strikes} = \\textsf{profit per site from strikes} \\times \\textsf{strikes purchased}$\n",
    "* $\\textsf{profit from duds} = \\textsf{profit per site from duds} \\times \\textsf{duds purchased}$ \n",
    "* $\\textsf{strikes purchased} = \\textit{round} ( \\textsf{proportion of strikes purchased} \\times \\textsf{probability of strike} \\times \\textsf{number of sites} )$\n",
    "* $\\textsf{duds purchased} = \\textit{round} ( \\textsf{proportion of duds purchased} \\times ( 1 - \\textsf{probability of strike} ) \\times \\textsf{number of sites} )$"
   ]
  },
  {
   "cell_type": "markdown",
   "metadata": {},
   "source": [
    "## Problem 1\n",
    "\n",
    "Assume these business parameter values:\n",
    "* 100 sites available for purchase\n",
    "* 10% probability that a site will be a strike\n",
    "* profit from a strike is \\$8,000,000 per site\n",
    "* profit from a dud is -\\$1,000,000 per site (that's negative one million)"
   ]
  },
  {
   "cell_type": "code",
   "execution_count": 2,
   "metadata": {
    "vscode": {
     "languageId": "r"
    }
   },
   "outputs": [],
   "source": [
    "business_decision_generator <- function(prop_strikes_purchased, prop_duds_purchased, business_param, decision_method_num) {\n",
    "    #Calculates the profit based on the decision model\n",
    "    strikes_purchased = round(prop_strikes_purchased * business_param[\"prob_strike\"] * business_param[\"sites\"])\n",
    "    duds_purchased = round(prop_duds_purchased * (1 - business_param[\"prob_strike\"]) * business_param[\"sites\"])\n",
    "    profit_from_strike = business_param[\"strike_profit_per_site\"] * strikes_purchased\n",
    "    profit_from_duds = business_param[\"dud_profit_per_site\"] * duds_purchased\n",
    "    profit = profit_from_duds + profit_from_strike\n",
    "    colnames(profit)[colnames(profit) == \"dud_profit_per_site\"] <- \"profit\"\n",
    "    return(data.frame(decision_method=decision_method_num, prop_strikes_purchased, prop_duds_purchased, profit))\n",
    "}"
   ]
  },
  {
   "cell_type": "markdown",
   "metadata": {},
   "source": [
    "Show the business parameter values."
   ]
  },
  {
   "cell_type": "code",
   "execution_count": 3,
   "metadata": {
    "hideCode": false,
    "hidePrompt": false,
    "hide_input": false,
    "run_control": {
     "marked": false
    },
    "vscode": {
     "languageId": "r"
    }
   },
   "outputs": [
    {
     "data": {
      "text/html": [
       "<table><tr><td style=\"background-color:white; vertical-align:top;\"><table style=\"white-space: nowrap;\">\n",
       "<caption><center><font color=\"black\"><b> </b></font></center></caption>\n",
       " <thead>\n",
       "  <tr>\n",
       "   <th style=\"text-align:right;color: black !important;background-color: #FFFFFF !important;\"> sites </th>\n",
       "   <th style=\"text-align:right;color: black !important;background-color: #FFFFFF !important;\"> prob_strike </th>\n",
       "   <th style=\"text-align:right;color: black !important;background-color: #FFFFFF !important;\"> strike_profit_per_site </th>\n",
       "   <th style=\"text-align:right;color: black !important;background-color: #FFFFFF !important;\"> dud_profit_per_site </th>\n",
       "  </tr>\n",
       " </thead>\n",
       "<tbody>\n",
       "  <tr>\n",
       "   <td style=\"text-align:right;color: black !important;\"> 100 </td>\n",
       "   <td style=\"text-align:right;color: black !important;\"> 0.1 </td>\n",
       "   <td style=\"text-align:right;color: black !important;\"> 8000000 </td>\n",
       "   <td style=\"text-align:right;color: black !important;\"> -1000000 </td>\n",
       "  </tr>\n",
       "</tbody>\n",
       "</table></td></tr></table>"
      ]
     },
     "metadata": {},
     "output_type": "display_data"
    }
   ],
   "source": [
    "business_param1 = data.frame(sites=c(100), prob_strike=c(0.1), strike_profit_per_site=c(8000000), dud_profit_per_site=c(-1000000))\n",
    "layout(fmt(business_param1, title=\"\"))"
   ]
  },
  {
   "cell_type": "markdown",
   "metadata": {},
   "source": [
    "Decision method \\#1 is estimated to select 80% of the strikes and 60% of the duds for purchase.  Use this decision method to calculate the estimated business result.  Show the estimated decision performance and business result."
   ]
  },
  {
   "cell_type": "code",
   "execution_count": 4,
   "metadata": {
    "hide_input": false,
    "vscode": {
     "languageId": "r"
    }
   },
   "outputs": [
    {
     "data": {
      "text/html": [
       "<table><tr><td style=\"background-color:white; vertical-align:top;\"><table style=\"white-space: nowrap;\">\n",
       "<caption><center><font color=\"black\"><b> </b></font></center></caption>\n",
       " <thead>\n",
       "  <tr>\n",
       "   <th style=\"text-align:right;color: black !important;background-color: #FFFFFF !important;\"> decision_method </th>\n",
       "   <th style=\"text-align:right;color: black !important;background-color: #FFFFFF !important;\"> prop_strikes_purchased </th>\n",
       "   <th style=\"text-align:right;color: black !important;background-color: #FFFFFF !important;\"> prop_duds_purchased </th>\n",
       "   <th style=\"text-align:right;color: black !important;background-color: #FFFFFF !important;\"> profit </th>\n",
       "  </tr>\n",
       " </thead>\n",
       "<tbody>\n",
       "  <tr>\n",
       "   <td style=\"text-align:right;color: black !important;\"> 1 </td>\n",
       "   <td style=\"text-align:right;color: black !important;\"> 0.8 </td>\n",
       "   <td style=\"text-align:right;color: black !important;\"> 0.6 </td>\n",
       "   <td style=\"text-align:right;color: black !important;\"> 10000000 </td>\n",
       "  </tr>\n",
       "</tbody>\n",
       "</table></td></tr></table>"
      ]
     },
     "metadata": {},
     "output_type": "display_data"
    }
   ],
   "source": [
    "decision_method_11 = business_decision_generator(0.8, 0.6, business_param1, 1)\n",
    "layout(fmt(decision_method_11, title=\"\"))"
   ]
  },
  {
   "cell_type": "markdown",
   "metadata": {},
   "source": [
    "Decision method \\#2 is to purchase all sites.  Use this decision method to calculate the estimated business result.  Show the estimated decision performance and business result."
   ]
  },
  {
   "cell_type": "code",
   "execution_count": 5,
   "metadata": {
    "hide_input": false,
    "vscode": {
     "languageId": "r"
    }
   },
   "outputs": [
    {
     "data": {
      "text/html": [
       "<table><tr><td style=\"background-color:white; vertical-align:top;\"><table style=\"white-space: nowrap;\">\n",
       "<caption><center><font color=\"black\"><b> </b></font></center></caption>\n",
       " <thead>\n",
       "  <tr>\n",
       "   <th style=\"text-align:right;color: black !important;background-color: #FFFFFF !important;\"> decision_method </th>\n",
       "   <th style=\"text-align:right;color: black !important;background-color: #FFFFFF !important;\"> prop_strikes_purchased </th>\n",
       "   <th style=\"text-align:right;color: black !important;background-color: #FFFFFF !important;\"> prop_duds_purchased </th>\n",
       "   <th style=\"text-align:right;color: black !important;background-color: #FFFFFF !important;\"> profit </th>\n",
       "  </tr>\n",
       " </thead>\n",
       "<tbody>\n",
       "  <tr>\n",
       "   <td style=\"text-align:right;color: black !important;\"> 2 </td>\n",
       "   <td style=\"text-align:right;color: black !important;\"> 1 </td>\n",
       "   <td style=\"text-align:right;color: black !important;\"> 1 </td>\n",
       "   <td style=\"text-align:right;color: black !important;\"> -10000000 </td>\n",
       "  </tr>\n",
       "</tbody>\n",
       "</table></td></tr></table>"
      ]
     },
     "metadata": {},
     "output_type": "display_data"
    }
   ],
   "source": [
    "decision_method_12 = business_decision_generator(1, 1, business_param1, 2)\n",
    "layout(fmt(decision_method_12, title=\"\"))"
   ]
  },
  {
   "cell_type": "markdown",
   "metadata": {},
   "source": [
    "Decision method #3 is estimated to select 70% of the strikes and 70% of the duds for purchase. Use this decision method to calculate the estimated business result. Show the estimated decision performance and business result."
   ]
  },
  {
   "cell_type": "code",
   "execution_count": 6,
   "metadata": {
    "vscode": {
     "languageId": "r"
    }
   },
   "outputs": [
    {
     "data": {
      "text/html": [
       "<table><tr><td style=\"background-color:white; vertical-align:top;\"><table style=\"white-space: nowrap;\">\n",
       "<caption><center><font color=\"black\"><b> </b></font></center></caption>\n",
       " <thead>\n",
       "  <tr>\n",
       "   <th style=\"text-align:right;color: black !important;background-color: #FFFFFF !important;\"> decision_method </th>\n",
       "   <th style=\"text-align:right;color: black !important;background-color: #FFFFFF !important;\"> prop_strikes_purchased </th>\n",
       "   <th style=\"text-align:right;color: black !important;background-color: #FFFFFF !important;\"> prop_duds_purchased </th>\n",
       "   <th style=\"text-align:right;color: black !important;background-color: #FFFFFF !important;\"> profit </th>\n",
       "  </tr>\n",
       " </thead>\n",
       "<tbody>\n",
       "  <tr>\n",
       "   <td style=\"text-align:right;color: black !important;\"> 3 </td>\n",
       "   <td style=\"text-align:right;color: black !important;\"> 0.7 </td>\n",
       "   <td style=\"text-align:right;color: black !important;\"> 0.7 </td>\n",
       "   <td style=\"text-align:right;color: black !important;\"> -7000000 </td>\n",
       "  </tr>\n",
       "</tbody>\n",
       "</table></td></tr></table>"
      ]
     },
     "metadata": {},
     "output_type": "display_data"
    }
   ],
   "source": [
    "decision_method_13 = business_decision_generator(0.7, 0.7, business_param1, 3)\n",
    "layout(fmt(decision_method_13, title=\"\"))"
   ]
  },
  {
   "cell_type": "markdown",
   "metadata": {},
   "source": [
    "Show (not calculate) the best decision method."
   ]
  },
  {
   "cell_type": "code",
   "execution_count": 7,
   "metadata": {
    "vscode": {
     "languageId": "r"
    }
   },
   "outputs": [
    {
     "data": {
      "text/html": [
       "<table><tr><td style=\"background-color:white; vertical-align:top;\"><table style=\"white-space: nowrap;\">\n",
       "<caption><center><font color=\"black\"><b> </b></font></center></caption>\n",
       " <thead>\n",
       "  <tr>\n",
       "   <th style=\"text-align:right;color: black !important;background-color: #FFFFFF !important;\"> best_decision_method </th>\n",
       "  </tr>\n",
       " </thead>\n",
       "<tbody>\n",
       "  <tr>\n",
       "   <td style=\"text-align:right;color: black !important;\"> 1 </td>\n",
       "  </tr>\n",
       "</tbody>\n",
       "</table></td></tr></table>"
      ]
     },
     "metadata": {},
     "output_type": "display_data"
    }
   ],
   "source": [
    "best_decision_method1=data.frame(best_decision_method = 1)\n",
    "layout(fmt(best_decision_method1, title=\"\"))"
   ]
  },
  {
   "cell_type": "markdown",
   "metadata": {},
   "source": [
    "## Problem 2\n",
    "\n",
    "You learn that the price of sites has suddenly dropped dramatically.  So, now assume these business parameter values:\n",
    "* 100 sites available for purchase\n",
    "* 10% probability that a site will be a strike\n",
    "* profit from a strike is \\$8,750,000 per site\n",
    "* profit from a dud is -\\$250,000 per site (that's negative quarter million)"
   ]
  },
  {
   "cell_type": "markdown",
   "metadata": {},
   "source": [
    "Show the business parameter values."
   ]
  },
  {
   "cell_type": "code",
   "execution_count": 8,
   "metadata": {
    "vscode": {
     "languageId": "r"
    }
   },
   "outputs": [
    {
     "data": {
      "text/html": [
       "<table><tr><td style=\"background-color:white; vertical-align:top;\"><table style=\"white-space: nowrap;\">\n",
       "<caption><center><font color=\"black\"><b> </b></font></center></caption>\n",
       " <thead>\n",
       "  <tr>\n",
       "   <th style=\"text-align:right;color: black !important;background-color: #FFFFFF !important;\"> sites </th>\n",
       "   <th style=\"text-align:right;color: black !important;background-color: #FFFFFF !important;\"> prob_strike </th>\n",
       "   <th style=\"text-align:right;color: black !important;background-color: #FFFFFF !important;\"> strike_profit_per_site </th>\n",
       "   <th style=\"text-align:right;color: black !important;background-color: #FFFFFF !important;\"> dud_profit_per_site </th>\n",
       "  </tr>\n",
       " </thead>\n",
       "<tbody>\n",
       "  <tr>\n",
       "   <td style=\"text-align:right;color: black !important;\"> 100 </td>\n",
       "   <td style=\"text-align:right;color: black !important;\"> 0.1 </td>\n",
       "   <td style=\"text-align:right;color: black !important;\"> 8750000 </td>\n",
       "   <td style=\"text-align:right;color: black !important;\"> -250000 </td>\n",
       "  </tr>\n",
       "</tbody>\n",
       "</table></td></tr></table>"
      ]
     },
     "metadata": {},
     "output_type": "display_data"
    }
   ],
   "source": [
    "business_param2 = data.frame(sites=c(100), prob_strike=c(0.1), strike_profit_per_site=c(8750000), dud_profit_per_site=c(-250000))\n",
    "layout(fmt(business_param2, title=\"\"))"
   ]
  },
  {
   "cell_type": "markdown",
   "metadata": {},
   "source": [
    "Decision method \\#1 is estimated to select 80% of the strikes and 60% of the duds for purchase.  Use this decision method to calculate the estimated business result.  Show the estimated decision performance and business result."
   ]
  },
  {
   "cell_type": "code",
   "execution_count": 9,
   "metadata": {
    "hide_input": false,
    "vscode": {
     "languageId": "r"
    }
   },
   "outputs": [
    {
     "data": {
      "text/html": [
       "<table><tr><td style=\"background-color:white; vertical-align:top;\"><table style=\"white-space: nowrap;\">\n",
       "<caption><center><font color=\"black\"><b> </b></font></center></caption>\n",
       " <thead>\n",
       "  <tr>\n",
       "   <th style=\"text-align:right;color: black !important;background-color: #FFFFFF !important;\"> decision_method </th>\n",
       "   <th style=\"text-align:right;color: black !important;background-color: #FFFFFF !important;\"> prop_strikes_purchased </th>\n",
       "   <th style=\"text-align:right;color: black !important;background-color: #FFFFFF !important;\"> prop_duds_purchased </th>\n",
       "   <th style=\"text-align:right;color: black !important;background-color: #FFFFFF !important;\"> profit </th>\n",
       "  </tr>\n",
       " </thead>\n",
       "<tbody>\n",
       "  <tr>\n",
       "   <td style=\"text-align:right;color: black !important;\"> 1 </td>\n",
       "   <td style=\"text-align:right;color: black !important;\"> 0.8 </td>\n",
       "   <td style=\"text-align:right;color: black !important;\"> 0.6 </td>\n",
       "   <td style=\"text-align:right;color: black !important;\"> 56500000 </td>\n",
       "  </tr>\n",
       "</tbody>\n",
       "</table></td></tr></table>"
      ]
     },
     "metadata": {},
     "output_type": "display_data"
    }
   ],
   "source": [
    "decision_method_21 = business_decision_generator(0.8, 0.6, business_param2, 1)\n",
    "layout(fmt(decision_method_21, title=\"\"))"
   ]
  },
  {
   "cell_type": "markdown",
   "metadata": {},
   "source": [
    "Decision method \\#2 is to purchase all sites.  Use this decision method to calculate the estimated business result.  Show the estimated decision performance and business result."
   ]
  },
  {
   "cell_type": "code",
   "execution_count": 10,
   "metadata": {
    "hide_input": false,
    "vscode": {
     "languageId": "r"
    }
   },
   "outputs": [
    {
     "data": {
      "text/html": [
       "<table><tr><td style=\"background-color:white; vertical-align:top;\"><table style=\"white-space: nowrap;\">\n",
       "<caption><center><font color=\"black\"><b> </b></font></center></caption>\n",
       " <thead>\n",
       "  <tr>\n",
       "   <th style=\"text-align:right;color: black !important;background-color: #FFFFFF !important;\"> decision_method </th>\n",
       "   <th style=\"text-align:right;color: black !important;background-color: #FFFFFF !important;\"> prop_strikes_purchased </th>\n",
       "   <th style=\"text-align:right;color: black !important;background-color: #FFFFFF !important;\"> prop_duds_purchased </th>\n",
       "   <th style=\"text-align:right;color: black !important;background-color: #FFFFFF !important;\"> profit </th>\n",
       "  </tr>\n",
       " </thead>\n",
       "<tbody>\n",
       "  <tr>\n",
       "   <td style=\"text-align:right;color: black !important;\"> 1 </td>\n",
       "   <td style=\"text-align:right;color: black !important;\"> 1 </td>\n",
       "   <td style=\"text-align:right;color: black !important;\"> 1 </td>\n",
       "   <td style=\"text-align:right;color: black !important;\"> 65000000 </td>\n",
       "  </tr>\n",
       "</tbody>\n",
       "</table></td></tr></table>"
      ]
     },
     "metadata": {},
     "output_type": "display_data"
    }
   ],
   "source": [
    "decision_method_22 = business_decision_generator(1, 1, business_param2, 1)\n",
    "layout(fmt(decision_method_22, title=\"\"))"
   ]
  },
  {
   "cell_type": "markdown",
   "metadata": {},
   "source": [
    "Decision method \\#3 is estimated to select 70% of the strikes and 70% of the duds for purchase.  Use this decision method to calculate the estimated business result.  Show the estimated decision performance and business result."
   ]
  },
  {
   "cell_type": "code",
   "execution_count": 11,
   "metadata": {
    "hide_input": false,
    "vscode": {
     "languageId": "r"
    }
   },
   "outputs": [
    {
     "data": {
      "text/html": [
       "<table><tr><td style=\"background-color:white; vertical-align:top;\"><table style=\"white-space: nowrap;\">\n",
       "<caption><center><font color=\"black\"><b> </b></font></center></caption>\n",
       " <thead>\n",
       "  <tr>\n",
       "   <th style=\"text-align:right;color: black !important;background-color: #FFFFFF !important;\"> decision_method </th>\n",
       "   <th style=\"text-align:right;color: black !important;background-color: #FFFFFF !important;\"> prop_strikes_purchased </th>\n",
       "   <th style=\"text-align:right;color: black !important;background-color: #FFFFFF !important;\"> prop_duds_purchased </th>\n",
       "   <th style=\"text-align:right;color: black !important;background-color: #FFFFFF !important;\"> profit </th>\n",
       "  </tr>\n",
       " </thead>\n",
       "<tbody>\n",
       "  <tr>\n",
       "   <td style=\"text-align:right;color: black !important;\"> 1 </td>\n",
       "   <td style=\"text-align:right;color: black !important;\"> 0.7 </td>\n",
       "   <td style=\"text-align:right;color: black !important;\"> 0.7 </td>\n",
       "   <td style=\"text-align:right;color: black !important;\"> 45500000 </td>\n",
       "  </tr>\n",
       "</tbody>\n",
       "</table></td></tr></table>"
      ]
     },
     "metadata": {},
     "output_type": "display_data"
    }
   ],
   "source": [
    "decision_method_23 = business_decision_generator(0.7, 0.7, business_param2, 1)\n",
    "layout(fmt(decision_method_23, title=\"\"))"
   ]
  },
  {
   "cell_type": "markdown",
   "metadata": {},
   "source": [
    "Show (not calculate) the best decision method."
   ]
  },
  {
   "cell_type": "code",
   "execution_count": 12,
   "metadata": {
    "vscode": {
     "languageId": "r"
    }
   },
   "outputs": [
    {
     "data": {
      "text/html": [
       "<table><tr><td style=\"background-color:white; vertical-align:top;\"><table style=\"white-space: nowrap;\">\n",
       "<caption><center><font color=\"black\"><b> </b></font></center></caption>\n",
       " <thead>\n",
       "  <tr>\n",
       "   <th style=\"text-align:right;color: black !important;background-color: #FFFFFF !important;\"> best_decision_method </th>\n",
       "  </tr>\n",
       " </thead>\n",
       "<tbody>\n",
       "  <tr>\n",
       "   <td style=\"text-align:right;color: black !important;\"> 2 </td>\n",
       "  </tr>\n",
       "</tbody>\n",
       "</table></td></tr></table>"
      ]
     },
     "metadata": {},
     "output_type": "display_data"
    }
   ],
   "source": [
    "best_decision_method2=data.frame(best_decision_method = 2)\n",
    "layout(fmt(best_decision_method2, title=\"\"))"
   ]
  },
  {
   "cell_type": "markdown",
   "metadata": {},
   "source": [
    "<font size=1;>\n",
    "<p style=\"text-align: left;\">\n",
    "Copyright (c) Berkeley Data Analytics Group, LLC\n",
    "<span style=\"float: right;\">\n",
    "Document revised January 4, 2022\n",
    "</span>\n",
    "</p>\n",
    "</font>"
   ]
  }
 ],
 "metadata": {
  "hide_code_all_hidden": false,
  "hide_input": false,
  "kernelspec": {
   "display_name": "R",
   "language": "R",
   "name": "ir"
  },
  "language_info": {
   "codemirror_mode": "r",
   "file_extension": ".r",
   "mimetype": "text/x-r-source",
   "name": "R",
   "pygments_lexer": "r",
   "version": "4.2.0"
  },
  "toc": {
   "base_numbering": 1,
   "nav_menu": {},
   "number_sections": false,
   "sideBar": true,
   "skip_h1_title": true,
   "title_cell": "Table of Contents",
   "title_sidebar": "Contents",
   "toc_cell": false,
   "toc_position": {},
   "toc_section_display": true,
   "toc_window_display": false
  }
 },
 "nbformat": 4,
 "nbformat_minor": 2
}
